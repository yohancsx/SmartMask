{
  "nbformat": 4,
  "nbformat_minor": 0,
  "metadata": {
    "colab": {
      "name": "Untitled0.ipynb",
      "provenance": [],
      "authorship_tag": "ABX9TyNKSiC8TR9fp7wlqozs2zJq",
      "include_colab_link": true
    },
    "kernelspec": {
      "name": "python3",
      "display_name": "Python 3"
    },
    "language_info": {
      "name": "python"
    }
  },
  "cells": [
    {
      "cell_type": "markdown",
      "metadata": {
        "id": "view-in-github",
        "colab_type": "text"
      },
      "source": [
        "<a href=\"https://colab.research.google.com/github/yohancsx/SmartMask/blob/main/data%20processing/DataCollectionVisualization.ipynb\" target=\"_parent\"><img src=\"https://colab.research.google.com/assets/colab-badge.svg\" alt=\"Open In Colab\"/></a>"
      ]
    },
    {
      "cell_type": "code",
      "metadata": {
        "id": "xDGg2nS7vlpr"
      },
      "source": [
        "#import the data from the CSV file\n",
        "\n",
        "\n",
        "#Visualize the data as a graph over time (Scrollable)\n",
        "\n",
        "#mark the data as breathing, coughing etc\n",
        "\n",
        "#do some basic splitting of the data and see if it's ok"
      ],
      "execution_count": null,
      "outputs": []
    }
  ]
}