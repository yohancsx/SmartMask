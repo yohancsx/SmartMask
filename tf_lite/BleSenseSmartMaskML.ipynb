{
  "nbformat": 4,
  "nbformat_minor": 0,
  "metadata": {
    "colab": {
      "name": "BleSenseSmartMaskML.ipynb",
      "provenance": [],
      "collapsed_sections": [],
      "authorship_tag": "ABX9TyOUrNwDKonit0B6b8+FiLCO",
      "include_colab_link": true
    },
    "kernelspec": {
      "name": "python3",
      "display_name": "Python 3"
    }
  },
  "cells": [
    {
      "cell_type": "markdown",
      "metadata": {
        "id": "view-in-github",
        "colab_type": "text"
      },
      "source": [
        "<a href=\"https://colab.research.google.com/github/yohancsx/SmartMask/blob/main/tf_lite/BleSenseSmartMaskML.ipynb\" target=\"_parent\"><img src=\"https://colab.research.google.com/assets/colab-badge.svg\" alt=\"Open In Colab\"/></a>"
      ]
    },
    {
      "cell_type": "markdown",
      "metadata": {
        "id": "WnAmzLOkqGZB"
      },
      "source": [
        "##Notebook for the BLE Smart Mask Project\r\n",
        "Trains the tf model to recognize various pressure changes and correlate to behaviors which are talking, coughing, heavy breathing and light breathing.\r\n",
        "Also converts the model into arduino-friendly format."
      ]
    },
    {
      "cell_type": "code",
      "metadata": {
        "id": "ZbOnkYfdp5Wg"
      },
      "source": [
        "#set up the notebook\r\n"
      ],
      "execution_count": null,
      "outputs": []
    }
  ]
}