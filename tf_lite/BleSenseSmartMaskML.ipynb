{
  "nbformat": 4,
  "nbformat_minor": 0,
  "metadata": {
    "colab": {
      "name": "BleSenseSmartMaskML.ipynb",
      "provenance": [],
      "collapsed_sections": [],
      "authorship_tag": "ABX9TyMlQU0Behtly6zQcSZ9h55o",
      "include_colab_link": true
    },
    "kernelspec": {
      "name": "python3",
      "display_name": "Python 3"
    }
  },
  "cells": [
    {
      "cell_type": "markdown",
      "metadata": {
        "id": "view-in-github",
        "colab_type": "text"
      },
      "source": [
        "<a href=\"https://colab.research.google.com/github/yohancsx/SmartMask/blob/main/tf_lite/BleSenseSmartMaskML.ipynb\" target=\"_parent\"><img src=\"https://colab.research.google.com/assets/colab-badge.svg\" alt=\"Open In Colab\"/></a>"
      ]
    },
    {
      "cell_type": "markdown",
      "metadata": {
        "id": "WnAmzLOkqGZB"
      },
      "source": [
        "##Notebook for the BLE Smart Mask Project\r\n",
        "Trains the tf model to recognize various pressure changes and correlate to behaviors which are talking, coughing, heavy breathing and light breathing.\r\n",
        "Also converts the model into arduino-friendly format."
      ]
    },
    {
      "cell_type": "code",
      "metadata": {
        "id": "ZbOnkYfdp5Wg"
      },
      "source": [
        "#set up the notebook\r\n",
        "!apt-get -qq install xxd\r\n",
        "!pip install pandas numpy matplotlib\r\n",
        "!pip install tensorflow==2.0.0-rc1"
      ],
      "execution_count": null,
      "outputs": []
    },
    {
      "cell_type": "code",
      "metadata": {
        "id": "o_pWgES3nIjU"
      },
      "source": [
        "#imports\r\n",
        "import matplotlib.pyplot as plt\r\n",
        "import numpy as np\r\n",
        "import pandas as pd"
      ],
      "execution_count": null,
      "outputs": []
    },
    {
      "cell_type": "code",
      "metadata": {
        "id": "vvqh-7ZenaQK"
      },
      "source": [
        "#the name for the breathing data\r\n",
        "breathingFile = \"breathing.csv\"\r\n",
        "\r\n",
        "#the name for the coughing data\r\n",
        "coughingFile = \"breathing.csv\"\r\n",
        "\r\n",
        "#the filename for the talking data\r\n",
        "talkingFile = \"breathing.csv\"\r\n",
        "\r\n",
        "#the filename for the combined data\r\n",
        "combinedFile = \"combined.csv\"\r\n",
        "\r\n",
        "df = pd.read_csv(\"/content/\" + filename)\r\n",
        "\r\n",
        "index = range(1, len(df['aX']) + 1)\r\n",
        "\r\n",
        "plt.rcParams[\"figure.figsize\"] = (20,10)\r\n",
        "\r\n",
        "plt.plot(index, df['aX'], 'g.', label='x', linestyle='solid', marker=',')\r\n",
        "plt.plot(index, df['aY'], 'b.', label='y', linestyle='solid', marker=',')\r\n",
        "plt.plot(index, df['aZ'], 'r.', label='z', linestyle='solid', marker=',')\r\n",
        "plt.title(\"Acceleration\")\r\n",
        "plt.xlabel(\"Sample #\")\r\n",
        "plt.ylabel(\"Acceleration (G)\")\r\n",
        "plt.legend()\r\n",
        "plt.show()\r\n",
        "\r\n",
        "plt.plot(index, df['gX'], 'g.', label='x', linestyle='solid', marker=',')\r\n",
        "plt.plot(index, df['gY'], 'b.', label='y', linestyle='solid', marker=',')\r\n",
        "plt.plot(index, df['gZ'], 'r.', label='z', linestyle='solid', marker=',')\r\n",
        "plt.title(\"Gyroscope\")\r\n",
        "plt.xlabel(\"Sample #\")\r\n",
        "plt.ylabel(\"Gyroscope (deg/sec)\")\r\n",
        "plt.legend()\r\n",
        "plt.show()\r\n"
      ],
      "execution_count": null,
      "outputs": []
    }
  ]
}