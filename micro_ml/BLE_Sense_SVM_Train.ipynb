{
  "nbformat": 4,
  "nbformat_minor": 0,
  "metadata": {
    "colab": {
      "name": "Untitled0.ipynb",
      "provenance": [],
      "authorship_tag": "ABX9TyMhvDjmNpL4wUtitZOs/4YD",
      "include_colab_link": true
    },
    "kernelspec": {
      "name": "python3",
      "display_name": "Python 3"
    }
  },
  "cells": [
    {
      "cell_type": "markdown",
      "metadata": {
        "id": "view-in-github",
        "colab_type": "text"
      },
      "source": [
        "<a href=\"https://colab.research.google.com/github/yohancsx/SmartMask/blob/main/micro_ml/BLE_Sense_SVM_Train.ipynb\" target=\"_parent\"><img src=\"https://colab.research.google.com/assets/colab-badge.svg\" alt=\"Open In Colab\"/></a>"
      ]
    },
    {
      "cell_type": "code",
      "metadata": {
        "id": "PKs1QhSEUJxu",
        "colab": {
          "base_uri": "https://localhost:8080/"
        },
        "outputId": "035f0ffd-1f20-47e2-ed38-4b0aa439c927"
      },
      "source": [
        "!apt-get -qq install xxd\r\n",
        "!pip install pandas numpy matplotlib\r\n",
        "!pip install scikit-learn\r\n",
        "!pip install micromlgen\r\n",
        "!pip install emlearn\r\n"
      ],
      "execution_count": 2,
      "outputs": [
        {
          "output_type": "stream",
          "text": [
            "Selecting previously unselected package xxd.\n",
            "(Reading database ... 146456 files and directories currently installed.)\n",
            "Preparing to unpack .../xxd_2%3a8.0.1453-1ubuntu1.4_amd64.deb ...\n",
            "Unpacking xxd (2:8.0.1453-1ubuntu1.4) ...\n",
            "Setting up xxd (2:8.0.1453-1ubuntu1.4) ...\n",
            "Processing triggers for man-db (2.8.3-2ubuntu0.1) ...\n",
            "Requirement already satisfied: pandas in /usr/local/lib/python3.6/dist-packages (1.1.5)\n",
            "Requirement already satisfied: numpy in /usr/local/lib/python3.6/dist-packages (1.19.5)\n",
            "Requirement already satisfied: matplotlib in /usr/local/lib/python3.6/dist-packages (3.2.2)\n",
            "Requirement already satisfied: python-dateutil>=2.7.3 in /usr/local/lib/python3.6/dist-packages (from pandas) (2.8.1)\n",
            "Requirement already satisfied: pytz>=2017.2 in /usr/local/lib/python3.6/dist-packages (from pandas) (2018.9)\n",
            "Requirement already satisfied: pyparsing!=2.0.4,!=2.1.2,!=2.1.6,>=2.0.1 in /usr/local/lib/python3.6/dist-packages (from matplotlib) (2.4.7)\n",
            "Requirement already satisfied: kiwisolver>=1.0.1 in /usr/local/lib/python3.6/dist-packages (from matplotlib) (1.3.1)\n",
            "Requirement already satisfied: cycler>=0.10 in /usr/local/lib/python3.6/dist-packages (from matplotlib) (0.10.0)\n",
            "Requirement already satisfied: six>=1.5 in /usr/local/lib/python3.6/dist-packages (from python-dateutil>=2.7.3->pandas) (1.15.0)\n",
            "Requirement already satisfied: scikit-learn in /usr/local/lib/python3.6/dist-packages (0.22.2.post1)\n",
            "Requirement already satisfied: scipy>=0.17.0 in /usr/local/lib/python3.6/dist-packages (from scikit-learn) (1.4.1)\n",
            "Requirement already satisfied: joblib>=0.11 in /usr/local/lib/python3.6/dist-packages (from scikit-learn) (1.0.0)\n",
            "Requirement already satisfied: numpy>=1.11.0 in /usr/local/lib/python3.6/dist-packages (from scikit-learn) (1.19.5)\n",
            "Collecting micromlgen\n",
            "  Downloading https://files.pythonhosted.org/packages/86/d9/428a800ee72625b3d448375fe5c665499a03b2a92937ba496a2898c81160/micromlgen-1.1.22.tar.gz\n",
            "Requirement already satisfied: jinja2 in /usr/local/lib/python3.6/dist-packages (from micromlgen) (2.11.2)\n",
            "Requirement already satisfied: MarkupSafe>=0.23 in /usr/local/lib/python3.6/dist-packages (from jinja2->micromlgen) (1.1.1)\n",
            "Building wheels for collected packages: micromlgen\n",
            "  Building wheel for micromlgen (setup.py) ... \u001b[?25l\u001b[?25hdone\n",
            "  Created wheel for micromlgen: filename=micromlgen-1.1.22-cp36-none-any.whl size=29110 sha256=6c399112e163f458785495d9900c30b58c487ff82d1a7bbc8e1ff2daa8a94fc3\n",
            "  Stored in directory: /root/.cache/pip/wheels/f9/16/75/c8290b649a30da3df82841b51cab894914fa7fa3085c6b4f5c\n",
            "Successfully built micromlgen\n",
            "Installing collected packages: micromlgen\n",
            "Successfully installed micromlgen-1.1.22\n",
            "Collecting emlearn\n",
            "  Downloading https://files.pythonhosted.org/packages/12/f3/c3f3e3bb4b2c2759a0303fa8779c1d11be089042c9286876770033ccd39d/emlearn-0.11.6.tar.gz\n",
            "Collecting pybind11>=2.2\n",
            "  Using cached https://files.pythonhosted.org/packages/8d/43/7339dbabbc2793718d59703aace4166f53c29ee1c202f6ff5bf8a26c4d91/pybind11-2.6.2-py2.py3-none-any.whl\n",
            "Requirement already satisfied: numpy>=1.14.0 in /usr/local/lib/python3.6/dist-packages (from emlearn) (1.19.5)\n",
            "Building wheels for collected packages: emlearn\n",
            "  Building wheel for emlearn (setup.py) ... \u001b[?25l\u001b[?25hdone\n",
            "  Created wheel for emlearn: filename=emlearn-0.11.6-cp36-cp36m-linux_x86_64.whl size=3056572 sha256=cf90f9bcacb37a7d852406441aab9fbfec42feb8467607c8dec3dd93e1cf9cc8\n",
            "  Stored in directory: /root/.cache/pip/wheels/19/02/5a/167de9bc0175905f1fc49fd918efe6ec062969e72e0741d3b7\n",
            "Successfully built emlearn\n",
            "Installing collected packages: pybind11, emlearn\n",
            "Successfully installed emlearn-0.11.6 pybind11-2.6.2\n"
          ],
          "name": "stdout"
        }
      ]
    },
    {
      "cell_type": "code",
      "metadata": {
        "id": "x7mEU3-zS97d"
      },
      "source": [
        "#imports\r\n",
        "import matplotlib.pyplot as plt\r\n",
        "import numpy as np\r\n",
        "import pandas as pd\r\n",
        "from sklearn.ensemble import RandomForestClassifier\r\n",
        "from sklearn import svm\r\n",
        "import emlearn"
      ],
      "execution_count": 3,
      "outputs": []
    },
    {
      "cell_type": "code",
      "metadata": {
        "colab": {
          "base_uri": "https://localhost:8080/",
          "height": 35
        },
        "id": "acxIXVgKS_dG",
        "outputId": "9efa2e17-e548-49f6-f73b-3112e91e3080"
      },
      "source": [
        "#load all the data into seperate dataframes\r\n",
        "\r\n",
        "#the name for the breathing data\r\n",
        "breathingFile = \"40s_breathing.csv\"\r\n",
        "\r\n",
        "#the name for the coughing data\r\n",
        "coughingFile = \"40s_coughing.csv\"\r\n",
        "\r\n",
        "#the filename for the talking data\r\n",
        "talkingFile = \"40s_talking.csv\"\r\n",
        "\r\n",
        "#the filename for the deep breathing data\r\n",
        "deepBreathingFile = \"40s_deep_breathing.csv\"\r\n",
        "\r\n",
        "#the filename for the combined data\r\n",
        "combinedFile = \"40s_mixed.csv\"\r\n",
        "\r\n",
        "#plot some of the data on the same axes\r\n",
        "dfTalk = (pd.read_csv(\"/content/\" + talkingFile, index_col=False, header=None, names = [\"pressure\", \"RMS\"])).dropna(axis = 1)\r\n",
        "dfBreathe = (pd.read_csv(\"/content/\" + breathingFile, index_col=False, header=None, names = [\"pressure\", \"RMS\"])).dropna(axis = 1)\r\n",
        "dfCough = (pd.read_csv(\"/content/\" + coughingFile, index_col=False, header=None, names = [\"pressure\", \"RMS\"])).dropna(axis = 1)\r\n",
        "dfDeepBreathe = (pd.read_csv(\"/content/\" + deepBreathingFile, index_col=False, header=None, names = [\"pressure\",\"RMS\"])).dropna(axis = 1)\r\n",
        "dfMixed = (pd.read_csv(\"/content/\" + talkingFile, index_col=False, header=None, names = [\"pressure\",\"RMS\"])).dropna(axis = 1)\r\n",
        "\r\n",
        "display(\"done loading data\")"
      ],
      "execution_count": 6,
      "outputs": [
        {
          "output_type": "display_data",
          "data": {
            "application/vnd.google.colaboratory.intrinsic+json": {
              "type": "string"
            },
            "text/plain": [
              "'done loading data'"
            ]
          },
          "metadata": {
            "tags": []
          }
        }
      ]
    },
    {
      "cell_type": "code",
      "metadata": {
        "colab": {
          "base_uri": "https://localhost:8080/",
          "height": 697
        },
        "id": "Q_hHNnp0WH4f",
        "outputId": "c7c0bb82-c9a3-4f92-9ccb-b877eb4bbc04"
      },
      "source": [
        "#plot some of the sample data\r\n",
        "plt.rcParams[\"figure.figsize\"] = (5,2)\r\n",
        "\r\n",
        "#the indices\r\n",
        "headLength = 200\r\n",
        "index = range(0, headLength)\r\n",
        "\r\n",
        "plt.plot(index, dfCough.head(headLength), 'g.', label='x', linestyle='solid', marker=',')\r\n",
        "plt.title(\"Coughing Data\")\r\n",
        "plt.xlabel(\"Sample #\")\r\n",
        "plt.ylabel(\"Pressure\")\r\n",
        "plt.legend()\r\n",
        "plt.show()\r\n",
        "\r\n",
        "plt.plot(index, dfBreathe.head(headLength), 'r.', label='x', linestyle='solid', marker=',')\r\n",
        "plt.title(\"Breathing Data\")\r\n",
        "plt.xlabel(\"Sample #\")\r\n",
        "plt.ylabel(\"Pressure\")\r\n",
        "plt.legend()\r\n",
        "plt.show()\r\n",
        "\r\n",
        "plt.plot(index, dfDeepBreathe.head(headLength), 'b.', label='x', linestyle='solid', marker=',')\r\n",
        "plt.title(\"Deep Breathing Data\")\r\n",
        "plt.xlabel(\"Sample #\")\r\n",
        "plt.ylabel(\"Pressure\")\r\n",
        "plt.legend()\r\n",
        "plt.show()\r\n",
        "\r\n",
        "plt.plot(index, dfTalk.head(headLength), 'y.', label='x', linestyle='solid', marker=',')\r\n",
        "plt.title(\"Talking Data\")\r\n",
        "plt.xlabel(\"Sample #\")\r\n",
        "plt.ylabel(\"Pressure\")\r\n",
        "plt.legend()\r\n",
        "plt.show()\r\n",
        "\r\n"
      ],
      "execution_count": 7,
      "outputs": [
        {
          "output_type": "display_data",
          "data": {
            "image/png": "[encoded data removed]",
            "text/plain": [
              "<Figure size 360x144 with 1 Axes>"
            ]
          },
          "metadata": {
            "tags": [],
            "needs_background": "light"
          }
        },
        {
          "output_type": "display_data",
          "data": {
            "image/png": "[encoded data removed]",
            "text/plain": [
              "<Figure size 360x144 with 1 Axes>"
            ]
          },
          "metadata": {
            "tags": [],
            "needs_background": "light"
          }
        },
        {
          "output_type": "display_data",
          "data": {
            "image/png": "[encoded data removed]",
            "text/plain": [
              "<Figure size 360x144 with 1 Axes>"
            ]
          },
          "metadata": {
            "tags": [],
            "needs_background": "light"
          }
        },
        {
          "output_type": "display_data",
          "data": {
            "image/png": "[encoded data removed]",
            "text/plain": [
              "<Figure size 360x144 with 1 Axes>"
            ]
          },
          "metadata": {
            "tags": [],
            "needs_background": "light"
          }
        }
      ]
    },
    {
      "cell_type": "code",
      "metadata": {
        "colab": {
          "base_uri": "https://localhost:8080/",
          "height": 52
        },
        "id": "K-QGMMNPWM7V",
        "outputId": "33fd23e7-27e9-407c-a2db-ccc16ef49281"
      },
      "source": [
        "#prepare the datasets\r\n",
        "\r\n",
        "#set the random seed\r\n",
        "SEED = 2001\r\n",
        "np.random.seed(SEED)\r\n",
        "\r\n",
        "#the list of breathing types to classify\r\n",
        "BREATHING_TYPES = [\r\n",
        "    \"coughing\",\r\n",
        "    \"breathing\",\r\n",
        "    \"talking\"\r\n",
        "]\r\n",
        "\r\n",
        "#the classmap of breathing types (needed for exporting to arduino)\r\n",
        "BREATHING_TYPE_MAP = {\r\n",
        "     0:\"coughing\",\r\n",
        "    1:\"breathing\",\r\n",
        "    2:\"talking\"\r\n",
        "}\r\n",
        "\r\n",
        "#the list of dataframes of the breathing types\r\n",
        "BREATHING_DATA_LIST = [dfCough,dfBreathe,dfTalk]\r\n",
        "\r\n",
        "#the raw number of samples per period\r\n",
        "SAMPLES_PER_PERIOD = 300\r\n",
        "\r\n",
        "NUM_TYPES = len(BREATHING_TYPES)\r\n",
        "\r\n",
        "#create a one-hot encoded matrix that is used in the output\r\n",
        "ONE_HOT_ENCODED_TYPES = np.eye(NUM_TYPES)\r\n",
        "\r\n",
        "\r\n",
        "#input and putput files\r\n",
        "inputs = []\r\n",
        "outputs = []\r\n",
        "outputs_str = []\r\n",
        "\r\n",
        "#set to a number far greater than the maximum number of samples (or infinity)\r\n",
        "minsamples = np.inf\r\n",
        "\r\n",
        "#the maximum pressure value so data is between 0 and 1\r\n",
        "maxpressure = 3000\r\n",
        "\r\n",
        "#the maximum RMS value\r\n",
        "maxrms = 50000\r\n",
        "\r\n",
        "#find the min number of samples, also the max value\r\n",
        "for type_index in range(NUM_TYPES):\r\n",
        "  #get the type data\r\n",
        "  type_data = BREATHING_DATA_LIST[type_index]\r\n",
        "  if((type_data.shape[0] - SAMPLES_PER_PERIOD/2) < minsamples):\r\n",
        "    minsamples = type_data.shape[0] - SAMPLES_PER_PERIOD/2\r\n",
        "  \r\n",
        "display(\"minimum samples:\")\r\n",
        "display(minsamples)"
      ],
      "execution_count": 11,
      "outputs": [
        {
          "output_type": "display_data",
          "data": {
            "application/vnd.google.colaboratory.intrinsic+json": {
              "type": "string"
            },
            "text/plain": [
              "'minimum samples:'"
            ]
          },
          "metadata": {
            "tags": []
          }
        },
        {
          "output_type": "display_data",
          "data": {
            "text/plain": [
              "41183.0"
            ]
          },
          "metadata": {
            "tags": []
          }
        }
      ]
    },
    {
      "cell_type": "code",
      "metadata": {
        "colab": {
          "base_uri": "https://localhost:8080/",
          "height": 122
        },
        "id": "EpmbqRK1WVtX",
        "outputId": "64c03ed1-931f-43c7-9552-8502e81f3bf3"
      },
      "source": [
        "#Option 1: split the dataset into overlapping portions\r\n",
        "distance_between_samples = 20\r\n",
        "\r\n",
        "for type_index in range(NUM_TYPES): \r\n",
        "  #get the type data\r\n",
        "  type_data = BREATHING_DATA_LIST[type_index]\r\n",
        "  #get the tensors with the samples, start by getting the first sampling period until the last\r\n",
        "  for i in range(int(SAMPLES_PER_PERIOD/2),int(minsamples),int(distance_between_samples)):\r\n",
        "    tensor = []\r\n",
        "    output = ONE_HOT_ENCODED_TYPES[type_index]\r\n",
        "    output_str = BREATHING_TYPES[type_index]\r\n",
        "    for j in range(SAMPLES_PER_PERIOD):\r\n",
        "      dataIndex = i + j - SAMPLES_PER_PERIOD/2\r\n",
        "      tensor += [type_data['pressure'][dataIndex]/maxpressure,type_data['RMS'][dataIndex]/maxrms]\r\n",
        "  \r\n",
        "    #append the data\r\n",
        "    inputs.append(tensor)\r\n",
        "    outputs.append(output)\r\n",
        "    outputs_str.append(output_str)\r\n",
        "\r\n",
        "inputs = np.array(inputs)\r\n",
        "outputs = np.array(outputs)\r\n",
        "outputs_str = np.array(outputs_str)\r\n",
        "\r\n",
        "display(\"input shape:\")\r\n",
        "display(inputs.shape)\r\n",
        "\r\n",
        "display(\"output shape:\")\r\n",
        "display(outputs.shape)\r\n",
        "\r\n",
        "display(\"output strings shape:\")\r\n",
        "display(outputs_str.shape)"
      ],
      "execution_count": 6,
      "outputs": [
        {
          "output_type": "display_data",
          "data": {
            "application/vnd.google.colaboratory.intrinsic+json": {
              "type": "string"
            },
            "text/plain": [
              "'input shape:'"
            ]
          },
          "metadata": {
            "tags": []
          }
        },
        {
          "output_type": "display_data",
          "data": {
            "text/plain": [
              "(196, 200)"
            ]
          },
          "metadata": {
            "tags": []
          }
        },
        {
          "output_type": "display_data",
          "data": {
            "application/vnd.google.colaboratory.intrinsic+json": {
              "type": "string"
            },
            "text/plain": [
              "'output shape:'"
            ]
          },
          "metadata": {
            "tags": []
          }
        },
        {
          "output_type": "display_data",
          "data": {
            "text/plain": [
              "(196, 4)"
            ]
          },
          "metadata": {
            "tags": []
          }
        },
        {
          "output_type": "display_data",
          "data": {
            "application/vnd.google.colaboratory.intrinsic+json": {
              "type": "string"
            },
            "text/plain": [
              "'output strings shape:'"
            ]
          },
          "metadata": {
            "tags": []
          }
        },
        {
          "output_type": "display_data",
          "data": {
            "text/plain": [
              "(196,)"
            ]
          },
          "metadata": {
            "tags": []
          }
        }
      ]
    },
    {
      "cell_type": "code",
      "metadata": {
        "colab": {
          "base_uri": "https://localhost:8080/",
          "height": 122
        },
        "id": "_WZM_g7Wnpva",
        "outputId": "1fe75e08-0139-41ce-f697-d89cf86ad4e1"
      },
      "source": [
        "#Option 2: split the dataset into non-overlapping portions\r\n",
        "for type_index in range(NUM_TYPES):\r\n",
        "  #get the type data\r\n",
        "  type_data = BREATHING_DATA_LIST[type_index]\r\n",
        "\r\n",
        "  #get the tensors with the samples, start by getting the first sampling period until the last\r\n",
        "  for i in range(int(minsamples/SAMPLES_PER_PERIOD)):\r\n",
        "    tensor = []\r\n",
        "    output = ONE_HOT_ENCODED_TYPES[type_index]\r\n",
        "    output_str = BREATHING_TYPES[type_index]\r\n",
        "    for j in range(SAMPLES_PER_PERIOD):\r\n",
        "      dataIndex = SAMPLES_PER_PERIOD*i + j\r\n",
        "      tensor += [type_data['pressure'][dataIndex]/maxpressure,type_data['RMS'][dataIndex]/maxrms]\r\n",
        "  \r\n",
        "    #append the data\r\n",
        "    inputs.append(tensor)\r\n",
        "    outputs.append(output)\r\n",
        "    outputs_str.append(output_str)\r\n",
        "\r\n",
        "inputs = np.array(inputs)\r\n",
        "outputs = np.array(outputs)\r\n",
        "outputs_str = np.array(outputs_str)\r\n",
        "\r\n",
        "display(\"input shape:\")\r\n",
        "display(inputs.shape)\r\n",
        "\r\n",
        "display(\"output shape:\")\r\n",
        "display(outputs.shape)\r\n",
        "\r\n",
        "display(\"output strings shape:\")\r\n",
        "display(outputs_str.shape)"
      ],
      "execution_count": 12,
      "outputs": [
        {
          "output_type": "display_data",
          "data": {
            "application/vnd.google.colaboratory.intrinsic+json": {
              "type": "string"
            },
            "text/plain": [
              "'input shape:'"
            ]
          },
          "metadata": {
            "tags": []
          }
        },
        {
          "output_type": "display_data",
          "data": {
            "text/plain": [
              "(411, 600)"
            ]
          },
          "metadata": {
            "tags": []
          }
        },
        {
          "output_type": "display_data",
          "data": {
            "application/vnd.google.colaboratory.intrinsic+json": {
              "type": "string"
            },
            "text/plain": [
              "'output shape:'"
            ]
          },
          "metadata": {
            "tags": []
          }
        },
        {
          "output_type": "display_data",
          "data": {
            "text/plain": [
              "(411, 3)"
            ]
          },
          "metadata": {
            "tags": []
          }
        },
        {
          "output_type": "display_data",
          "data": {
            "application/vnd.google.colaboratory.intrinsic+json": {
              "type": "string"
            },
            "text/plain": [
              "'output strings shape:'"
            ]
          },
          "metadata": {
            "tags": []
          }
        },
        {
          "output_type": "display_data",
          "data": {
            "text/plain": [
              "(411,)"
            ]
          },
          "metadata": {
            "tags": []
          }
        }
      ]
    },
    {
      "cell_type": "code",
      "metadata": {
        "colab": {
          "base_uri": "https://localhost:8080/",
          "height": 226
        },
        "id": "pkS2Az5JXBIC",
        "outputId": "55c4335d-4aad-4c63-9d52-8f62d8897cf3"
      },
      "source": [
        "#randomize and split inputs and outputs into training and test sets\r\n",
        "num_inputs = len(inputs)\r\n",
        "randomize = np.arange(num_inputs)\r\n",
        "np.random.shuffle(randomize)\r\n",
        "\r\n",
        "#swap the consecutive indexes (0, 1, 2, etc) with the randomized indexes\r\n",
        "inputs = inputs[randomize]\r\n",
        "outputs = outputs[randomize]\r\n",
        "outputs_str = outputs_str[randomize]\r\n",
        "\r\n",
        "\r\n",
        "#split the recordings (group of samples) into two sets, training and testing\r\n",
        "TRAIN_SPLIT = int(0.7 * num_inputs)\r\n",
        "\r\n",
        "\r\n",
        "inputs_train, inputs_test = np.split(inputs, [TRAIN_SPLIT])\r\n",
        "outputs_train, outputs_test = np.split(outputs, [TRAIN_SPLIT])\r\n",
        "outputs_str_train, outputs_str_test = np.split(outputs_str, [TRAIN_SPLIT])\r\n",
        "\r\n",
        "display(\"input train shape:\")\r\n",
        "display(inputs_train.shape)\r\n",
        "\r\n",
        "display(\"output_train shape:\")\r\n",
        "display(outputs_train.shape)\r\n",
        "\r\n",
        "display(\"output_str_train shape:\")\r\n",
        "display(outputs_str_train.shape)\r\n",
        "\r\n",
        "display(\"input_test shape:\")\r\n",
        "display(inputs_test.shape)\r\n",
        "\r\n",
        "display(\"output_test shape:\")\r\n",
        "display(outputs_test.shape)\r\n",
        "\r\n",
        "display(\"output_str_test shape:\")\r\n",
        "display(outputs_str_test.shape)"
      ],
      "execution_count": 13,
      "outputs": [
        {
          "output_type": "display_data",
          "data": {
            "application/vnd.google.colaboratory.intrinsic+json": {
              "type": "string"
            },
            "text/plain": [
              "'input train shape:'"
            ]
          },
          "metadata": {
            "tags": []
          }
        },
        {
          "output_type": "display_data",
          "data": {
            "text/plain": [
              "(287, 600)"
            ]
          },
          "metadata": {
            "tags": []
          }
        },
        {
          "output_type": "display_data",
          "data": {
            "application/vnd.google.colaboratory.intrinsic+json": {
              "type": "string"
            },
            "text/plain": [
              "'output_train shape:'"
            ]
          },
          "metadata": {
            "tags": []
          }
        },
        {
          "output_type": "display_data",
          "data": {
            "text/plain": [
              "(287, 3)"
            ]
          },
          "metadata": {
            "tags": []
          }
        },
        {
          "output_type": "display_data",
          "data": {
            "application/vnd.google.colaboratory.intrinsic+json": {
              "type": "string"
            },
            "text/plain": [
              "'output_str_train shape:'"
            ]
          },
          "metadata": {
            "tags": []
          }
        },
        {
          "output_type": "display_data",
          "data": {
            "text/plain": [
              "(287,)"
            ]
          },
          "metadata": {
            "tags": []
          }
        },
        {
          "output_type": "display_data",
          "data": {
            "application/vnd.google.colaboratory.intrinsic+json": {
              "type": "string"
            },
            "text/plain": [
              "'input_test shape:'"
            ]
          },
          "metadata": {
            "tags": []
          }
        },
        {
          "output_type": "display_data",
          "data": {
            "text/plain": [
              "(124, 600)"
            ]
          },
          "metadata": {
            "tags": []
          }
        },
        {
          "output_type": "display_data",
          "data": {
            "application/vnd.google.colaboratory.intrinsic+json": {
              "type": "string"
            },
            "text/plain": [
              "'output_test shape:'"
            ]
          },
          "metadata": {
            "tags": []
          }
        },
        {
          "output_type": "display_data",
          "data": {
            "text/plain": [
              "(124, 3)"
            ]
          },
          "metadata": {
            "tags": []
          }
        },
        {
          "output_type": "display_data",
          "data": {
            "application/vnd.google.colaboratory.intrinsic+json": {
              "type": "string"
            },
            "text/plain": [
              "'output_str_test shape:'"
            ]
          },
          "metadata": {
            "tags": []
          }
        },
        {
          "output_type": "display_data",
          "data": {
            "text/plain": [
              "(124,)"
            ]
          },
          "metadata": {
            "tags": []
          }
        }
      ]
    },
    {
      "cell_type": "code",
      "metadata": {
        "colab": {
          "base_uri": "https://localhost:8080/"
        },
        "id": "FqYZwD8qXxP3",
        "outputId": "893fe270-8926-483c-8337-e485ab741f14"
      },
      "source": [
        "#train SVM\r\n",
        "lin_svm = svm.LinearSVC().fit(inputs_train, outputs_str_train)"
      ],
      "execution_count": 14,
      "outputs": [
        {
          "output_type": "stream",
          "text": [
            "/usr/local/lib/python3.6/dist-packages/sklearn/svm/_base.py:947: ConvergenceWarning: Liblinear failed to converge, increase the number of iterations.\n",
            "  \"the number of iterations.\", ConvergenceWarning)\n"
          ],
          "name": "stderr"
        }
      ]
    },
    {
      "cell_type": "code",
      "metadata": {
        "colab": {
          "base_uri": "https://localhost:8080/",
          "height": 52
        },
        "id": "IgV0cKHoTiGB",
        "outputId": "7fa04c26-4ab3-441e-c0f3-7c0a55f12c75"
      },
      "source": [
        "display(\"accuracy of SVM: \")\r\n",
        "display(lin_svm.score(inputs_test,outputs_str_test))"
      ],
      "execution_count": 15,
      "outputs": [
        {
          "output_type": "display_data",
          "data": {
            "application/vnd.google.colaboratory.intrinsic+json": {
              "type": "string"
            },
            "text/plain": [
              "'accuracy of SVM: '"
            ]
          },
          "metadata": {
            "tags": []
          }
        },
        {
          "output_type": "display_data",
          "data": {
            "text/plain": [
              "0.41935483870967744"
            ]
          },
          "metadata": {
            "tags": []
          }
        }
      ]
    },
    {
      "cell_type": "code",
      "metadata": {
        "id": "82aJR9-M1oNd",
        "outputId": "045483a7-86a0-4d35-d458-22caa28bf9d6",
        "colab": {
          "base_uri": "https://localhost:8080/"
        }
      },
      "source": [
        "forest = RandomForestClassifier(n_estimators=20, max_depth=20)\r\n",
        "forest.fit(inputs_train, outputs_str_train)"
      ],
      "execution_count": 20,
      "outputs": [
        {
          "output_type": "execute_result",
          "data": {
            "text/plain": [
              "RandomForestClassifier(bootstrap=True, ccp_alpha=0.0, class_weight=None,\n",
              "                       criterion='gini', max_depth=20, max_features='auto',\n",
              "                       max_leaf_nodes=None, max_samples=None,\n",
              "                       min_impurity_decrease=0.0, min_impurity_split=None,\n",
              "                       min_samples_leaf=1, min_samples_split=2,\n",
              "                       min_weight_fraction_leaf=0.0, n_estimators=20,\n",
              "                       n_jobs=None, oob_score=False, random_state=None,\n",
              "                       verbose=0, warm_start=False)"
            ]
          },
          "metadata": {
            "tags": []
          },
          "execution_count": 20
        }
      ]
    },
    {
      "cell_type": "code",
      "metadata": {
        "id": "7j4z1S-f1363",
        "outputId": "66b130a8-e38e-44e5-c3db-5b9f32a88c18",
        "colab": {
          "base_uri": "https://localhost:8080/",
          "height": 52
        }
      },
      "source": [
        "display(\"accuracy of forest: \")\r\n",
        "display(forest.score(inputs_test,outputs_str_test))"
      ],
      "execution_count": 21,
      "outputs": [
        {
          "output_type": "display_data",
          "data": {
            "application/vnd.google.colaboratory.intrinsic+json": {
              "type": "string"
            },
            "text/plain": [
              "'accuracy of forest: '"
            ]
          },
          "metadata": {
            "tags": []
          }
        },
        {
          "output_type": "display_data",
          "data": {
            "text/plain": [
              "0.9516129032258065"
            ]
          },
          "metadata": {
            "tags": []
          }
        }
      ]
    },
    {
      "cell_type": "code",
      "metadata": {
        "colab": {
          "base_uri": "https://localhost:8080/",
          "height": 137
        },
        "id": "oCcUiA9HTjk7",
        "outputId": "7442dd88-43f7-4641-da60-cc70724e14b2"
      },
      "source": [
        "#export\r\n",
        "cmodel = emlearn.convert(forest, method='inline')\r\n",
        "cmodel.save(file='sonar.h')"
      ],
      "execution_count": 23,
      "outputs": [
        {
          "output_type": "execute_result",
          "data": {
            "application/vnd.google.colaboratory.intrinsic+json": {
              "type": "string"
            },
            "text/plain": [
              "'\\n    // !!! This file is generated using emlearn !!!\\n\\n    #include <eml_trees.h>\\n    \\n\\nEmlTreesNode sonar_nodes[287] = {\\n  { 444, 0.0336016658693552, 1, 4 },\\n  { 528, 0.03359833359718323, 2, 11 },\\n  { 498, 0.03358833305537701, 3, 6 },\\n  { 213, 0.31665000319480896, 4, 5 },\\n  { -1, 1, -1, -1 },\\n  { -1, 2, -1, -1 },\\n  { 252, 0.03359833359718323, 7, 5 },\\n  { 200, 0.033578332513570786, 4, 8 },\\n  { 381, 0.3048899918794632, 9, 10 },\\n  { -1, 0, -1, -1 },\\n  { 309, 0.22288000583648682, 5, 9 },\\n  { 330, 0.033586667850613594, 4, 12 },\\n  { 308, 0.0336016658693552, 13, 15 },\\n  { 543, 0.49970000982284546, 5, 14 },\\n  { 363, 0.5289699882268906, 5, 9 },\\n  { 90, 0.0336016658693552, 9, 5 },\\n  { 492, 0.0336016658693552, 17, 31 },\\n  { 372, 0.03359833359718323, 18, 28 },\\n  { 323, 0.31780000030994415, 19, 23 },\\n  { 332, 0.03358833305537701, 20, 21 },\\n  { 419, 0.40625, 4, 5 },\\n  { 534, 0.03359833359718323, 22, 5 },\\n  { 558, 0.033586665987968445, 4, 9 },\\n  { 165, 0.2592500001192093, 24, 25 },\\n  { 455, 0.48680001497268677, 4, 9 },\\n  { 83, 0.49167999625205994, 26, 9 },\\n  { 594, 0.03357166610658169, 4, 27 },\\n  { 465, 0.5169999897480011, 5, 9 },\\n  { 434, 0.03359166719019413, 4, 29 },\\n  { 559, 0.14597999304533005, 30, 5 },\\n  { 225, 0.2851700037717819, 5, 9 },\\n  { 390, 0.0336016658693552, 32, 4 },\\n  { 148, 0.03358499892055988, 4, 5 },\\n  { 366, 0.0336016658693552, 34, 4 },\\n  { 482, 0.03359833359718323, 35, 45 },\\n  { 430, 0.03358833305537701, 36, 41 },\\n  { 203, 0.37352000176906586, 37, 39 },\\n  { 177, 0.3590400069952011, 4, 38 },\\n  { 69, 0.3377799987792969, 4, 5 },\\n  { 591, 0.29221001267433167, 40, 5 },\\n  { 132, 0.033594999462366104, 9, 4 },\\n  { 268, 0.03359833359718323, 42, 5 },\\n  { 492, 0.033586665987968445, 4, 43 },\\n  { 381, 0.30051998794078827, 9, 44 },\\n  { 333, 0.19751999527215958, 5, 9 },\\n  { 142, 0.03357166610658169, 4, 46 },\\n  { 235, 0.06802999973297119, 9, 47 },\\n  { 532, 0.03359833359718323, 48, 49 },\\n  { 559, 0.31895001232624054, 5, 9 },\\n  { 433, 0.5646399855613708, 5, 50 },\\n  { 593, 0.436039999127388, 5, 9 },\\n  { 460, 0.03359833359718323, 52, 61 },\\n  { 562, 0.03358499892055988, 53, 55 },\\n  { 163, 0.3334999978542328, 4, 54 },\\n  { 176, 0.03360000066459179, 5, 4 },\\n  { 46, 0.03359833359718323, 56, 59 },\\n  { 216, 0.03357999958097935, 4, 57 },\\n  { 367, 0.2982499897480011, 9, 58 },\\n  { 583, 0.18470999598503113, 5, 9 },\\n  { 360, 0.03359833359718323, 60, 5 },\\n  { 209, 0.11610000347718596, 9, 4 },\\n  { 332, 0.0336016658693552, 62, 65 },\\n  { 82, 0.033578332513570786, 4, 63 },\\n  { 561, 0.10293000191450119, 64, 5 },\\n  { 357, 0.14208000153303146, 5, 9 },\\n  { 374, 0.0336016658693552, 9, 4 },\\n  { 374, 0.0336016658693552, 67, 4 },\\n  { 194, 0.03359833359718323, 68, 77 },\\n  { 458, 0.03358499892055988, 69, 71 },\\n  { 514, 0.033578334376215935, 4, 70 },\\n  { 257, 0.2597299963235855, 4, 5 },\\n  { 494, 0.03359833359718323, 72, 75 },\\n  { 542, 0.03358499892055988, 4, 73 },\\n  { 387, 0.27053000032901764, 9, 74 },\\n  { 515, 0.2119000032544136, 5, 9 },\\n  { 232, 0.033578332513570786, 4, 76 },\\n  { 305, 0.1905200034379959, 9, 5 },\\n  { 448, 0.03359500132501125, 4, 78 },\\n  { 451, 0.05622999928891659, 9, 5 },\\n  { 384, 0.0336016658693552, 80, 4 },\\n  { 572, 0.03359833359718323, 81, 89 },\\n  { 598, 0.03358833305537701, 82, 85 },\\n  { 15, 0.5092400014400482, 83, 5 },\\n  { 16, 0.03357999958097935, 84, 4 },\\n  { 404, 0.03357166610658169, 4, 5 },\\n  { 370, 0.03359833359718323, 86, 5 },\\n  { 32, 0.03358166664838791, 4, 87 },\\n  { 281, 0.10642000287771225, 88, 9 },\\n  { 339, 0.18417000025510788, 9, 5 },\\n  { 445, 0.05622999928891659, 9, 90 },\\n  { 155, 0.452239990234375, 91, 94 },\\n  { 109, 0.06752999871969223, 9, 92 },\\n  { 326, 0.0336016658693552, 5, 93 },\\n  { 129, 0.415460005402565, 9, 5 },\\n  { 337, 0.44495999813079834, 5, 9 },\\n  { 116, 0.0336016658693552, 96, 106 },\\n  { 516, 0.03359833359718323, 97, 103 },\\n  { 538, 0.03358499892055988, 98, 99 },\\n  { 393, 0.28169000148773193, 4, 5 },\\n  { 274, 0.03359833359718323, 100, 102 },\\n  { 363, 0.2982499897480011, 9, 101 },\\n  { 581, 0.19766999781131744, 5, 9 },\\n  { 443, 0.1762700006365776, 9, 5 },\\n  { 492, 0.0336016658693552, 104, 4 },\\n  { 539, 0.1682400032877922, 105, 5 },\\n  { 325, 0.24227000027894974, 5, 9 },\\n  { 369, 0.639059990644455, 4, 5 },\\n  { 442, 0.0336016658693552, 108, 4 },\\n  { 520, 0.03359833359718323, 109, 114 },\\n  { 594, 0.03359000012278557, 110, 111 },\\n  { 117, 0.39730000495910645, 4, 5 },\\n  { 380, 0.03359833359718323, 112, 113 },\\n  { 42, 0.03358333371579647, 4, 9 },\\n  { 191, 0.0743199996650219, 9, 5 },\\n  { 316, 0.0336016658693552, 115, 118 },\\n  { 418, 0.03359500132501125, 4, 116 },\\n  { 385, 0.5262399911880493, 117, 9 },\\n  { 453, 0.08203999884426594, 9, 5 },\\n  { 409, 0.2908499911427498, 9, 5 },\\n  { 382, 0.0336016658693552, 120, 134 },\\n  { 300, 0.03359833359718323, 121, 132 },\\n  { 486, 0.03358499892055988, 122, 124 },\\n  { 189, 0.30143000185489655, 4, 123 },\\n  { 49, 0.11003999598324299, 4, 5 },\\n  { 478, 0.03359833359718323, 125, 130 },\\n  { 272, 0.03357999958097935, 4, 126 },\\n  { 439, 0.2501300051808357, 9, 127 },\\n  { 247, 0.15055999904870987, 128, 9 },\\n  { 434, 0.03359500132501125, 4, 129 },\\n  { 371, 0.2357499971985817, 9, 5 },\\n  { 595, 0.08074000105261803, 9, 131 },\\n  { 566, 0.0336016658693552, 5, 4 },\\n  { 365, 0.5554599910974503, 5, 133 },\\n  { 537, 0.4159500151872635, 4, 9 },\\n  { 430, 0.0336016658693552, 5, 4 },\\n  { 598, 0.0336016658693552, 136, 146 },\\n  { 188, 0.03359833359718323, 137, 143 },\\n  { 566, 0.03358499892055988, 138, 139 },\\n  { 157, 0.3654000014066696, 4, 5 },\\n  { 376, 0.03359833359718323, 140, 5 },\\n  { 76, 0.03358166664838791, 5, 141 },\\n  { 271, 0.10480999946594238, 142, 9 },\\n  { 279, 0.10135000199079514, 9, 5 },\\n  { 132, 0.0336016658693552, 144, 145 },\\n  { 451, 0.06652999855577946, 9, 5 },\\n  { 38, 0.0336016658693552, 5, 4 },\\n  { 534, 0.0336016658693552, 147, 4 },\\n  { 229, 0.3145899921655655, 4, 5 },\\n  { 366, 0.0336016658693552, 149, 4 },\\n  { 306, 0.03359833359718323, 150, 158 },\\n  { 502, 0.03358833305537701, 151, 153 },\\n  { 185, 0.29582999646663666, 4, 152 },\\n  { 292, 0.03359500132501125, 5, 4 },\\n  { 138, 0.03358833305537701, 154, 155 },\\n  { 247, 0.19708000123500824, 5, 4 },\\n  { 448, 0.03359833359718323, 156, 157 },\\n  { 562, 0.033586665987968445, 4, 9 },\\n  { 216, 0.03359833359718323, 9, 5 },\\n  { 553, 0.14597999304533005, 159, 160 },\\n  { 163, 0.3971399962902069, 9, 5 },\\n  { 285, 0.642879992723465, 5, 4 },\\n  { 590, 0.03359833359718323, 162, 169 },\\n  { 534, 0.03358499892055988, 163, 165 },\\n  { 199, 0.32673999667167664, 4, 164 },\\n  { 500, 0.033568333834409714, 4, 5 },\\n  { 380, 0.03359833359718323, 166, 167 },\\n  { 588, 0.033586665987968445, 4, 9 },\\n  { 17, 0.14270999655127525, 168, 5 },\\n  { 233, 0.04231000132858753, 9, 4 },\\n  { 560, 0.0336016658693552, 170, 4 },\\n  { 58, 0.0336016658693552, 171, 175 },\\n  { 350, 0.0336016658693552, 172, 9 },\\n  { 577, 0.047330000437796116, 9, 173 },\\n  { 299, 0.5096400082111359, 5, 174 },\\n  { 115, 0.3545199930667877, 5, 9 },\\n  { 275, 0.32597000151872635, 4, 5 },\\n  { 306, 0.0336016658693552, 177, 188 },\\n  { 464, 0.03359833359718323, 178, 185 },\\n  { 346, 0.03358833305537701, 179, 181 },\\n  { 195, 0.318340003490448, 4, 180 },\\n  { 95, 0.43445999920368195, 5, 9 },\\n  { 0, 0.03359833359718323, 182, 183 },\\n  { 550, 0.033586665987968445, 4, 9 },\\n  { 9, 0.2699900045990944, 184, 5 },\\n  { 77, 0.2501499969512224, 4, 9 },\\n  { 114, 0.03357166610658169, 4, 186 },\\n  { 259, 0.06183999963104725, 9, 187 },\\n  { 273, 0.531279981136322, 5, 9 },\\n  { 278, 0.0336016658693552, 9, 4 },\\n  { 388, 0.0336016658693552, 190, 202 },\\n  { 478, 0.03359833359718323, 191, 197 },\\n  { 584, 0.033586665987968445, 192, 194 },\\n  { 233, 0.31547001004219055, 4, 193 },\\n  { 530, 0.03357166610658169, 4, 5 },\\n  { 118, 0.0336016658693552, 195, 4 },\\n  { 266, 0.03359833359718323, 196, 5 },\\n  { 232, 0.03357666730880737, 4, 9 },\\n  { 549, 0.14597999304533005, 198, 201 },\\n  { 452, 0.0336016658693552, 199, 5 },\\n  { 115, 0.18742000684142113, 200, 9 },\\n  { 231, 0.12593000009655952, 9, 5 },\\n  { 503, 0.6199800074100494, 5, 4 },\\n  { 470, 0.0336016658693552, 203, 4 },\\n  { 300, 0.0336016658693552, 5, 4 },\\n  { 464, 0.03359833359718323, 205, 211 },\\n  { 442, 0.03358499892055988, 206, 207 },\\n  { 193, 0.32816000282764435, 4, 5 },\\n  { 290, 0.03359833359718323, 208, 210 },\\n  { 371, 0.30051998794078827, 9, 209 },\\n  { 267, 0.16012999787926674, 5, 9 },\\n  { 386, 0.03359833359718323, 4, 5 },\\n  { 392, 0.0336016658693552, 212, 214 },\\n  { 336, 0.0336016658693552, 213, 9 },\\n  { 527, 0.04645000118762255, 9, 5 },\\n  { 500, 0.0336016658693552, 215, 4 },\\n  { 80, 0.0336016658693552, 5, 4 },\\n  { 470, 0.0336016658693552, 217, 233 },\\n  { 462, 0.03359833359718323, 218, 228 },\\n  { 514, 0.03358499892055988, 219, 221 },\\n  { 3, 0.3373899906873703, 4, 220 },\\n  { 169, 0.274059996008873, 4, 5 },\\n  { 58, 0.03359833359718323, 222, 226 },\\n  { 320, 0.033576665446162224, 4, 223 },\\n  { 576, 0.033586665987968445, 4, 224 },\\n  { 191, 0.12859999388456345, 225, 9 },\\n  { 23, 0.19539999961853027, 9, 5 },\\n  { 119, 0.16316999308764935, 227, 5 },\\n  { 8, 0.03360000066459179, 9, 4 },\\n  { 597, 0.13607000559568405, 229, 230 },\\n  { 245, 0.29659999907016754, 9, 5 },\\n  { 125, 0.09253999963402748, 4, 231 },\\n  { 169, 0.4712800085544586, 5, 232 },\\n  { 79, 0.3687799870967865, 5, 9 },\\n  { 312, 0.0336016658693552, 234, 4 },\\n  { 354, 0.033596666529774666, 4, 5 },\\n  { 312, 0.0336016658693552, 236, 243 },\\n  { 390, 0.03359833359718323, 237, 241 },\\n  { 562, 0.033586665987968445, 238, 239 },\\n  { 93, 0.2394699975848198, 4, 5 },\\n  { 302, 0.03359833359718323, 240, 5 },\\n  { 146, 0.03357999958097935, 4, 9 },\\n  { 568, 0.0336016658693552, 242, 4 },\\n  { 525, 0.04645000118762255, 9, 5 },\\n  { 379, 0.6526199877262115, 4, 244 },\\n  { 90, 0.03358499892055988, 4, 5 },\\n  { 164, 0.0336016658693552, 246, 257 },\\n  { 536, 0.03359833359718323, 247, 252 },\\n  { 502, 0.03358833305537701, 248, 250 },\\n  { 209, 0.3245900124311447, 4, 249 },\\n  { 370, 0.03356500156223774, 4, 5 },\\n  { 274, 0.03359833359718323, 251, 5 },\\n  { 590, 0.033586665987968445, 4, 9 },\\n  { 46, 0.03357500024139881, 4, 253 },\\n  { 157, 0.08894000202417374, 9, 254 },\\n  { 261, 0.6308200061321259, 255, 9 },\\n  { 499, 0.5227400064468384, 5, 256 },\\n  { 464, 0.03359833359718323, 9, 5 },\\n  { 421, 0.6222400069236755, 4, 258 },\\n  { 314, 0.0336016658693552, 5, 4 },\\n  { 382, 0.0336016658693552, 260, 4 },\\n  { 580, 0.03359833359718323, 261, 268 },\\n  { 544, 0.03358499892055988, 262, 264 },\\n  { 195, 0.3566800057888031, 4, 263 },\\n  { 364, 0.033586665987968445, 5, 4 },\\n  { 262, 0.03359833359718323, 265, 267 },\\n  { 275, 0.10597000271081924, 266, 9 },\\n  { 211, 0.12265999615192413, 9, 5 },\\n  { 230, 0.0336016658693552, 5, 4 },\\n  { 280, 0.03358333371579647, 4, 269 },\\n  { 387, 0.06807000003755093, 9, 270 },\\n  { 350, 0.0336016658693552, 5, 9 },\\n  { 396, 0.0336016658693552, 272, 286 },\\n  { 556, 0.03359833359718323, 273, 282 },\\n  { 572, 0.033586665987968445, 274, 277 },\\n  { 592, 0.033578334376215935, 275, 276 },\\n  { 109, 0.3271099925041199, 4, 5 },\\n  { 106, 0.03359500132501125, 5, 4 },\\n  { 208, 0.03358333371579647, 278, 279 },\\n  { 229, 0.24372000992298126, 4, 5 },\\n  { 294, 0.03360000066459179, 280, 4 },\\n  { 409, 0.27260999381542206, 9, 281 },\\n  { 419, 0.28342999517917633, 5, 9 },\\n  { 316, 0.0336016658693552, 283, 9 },\\n  { 367, 0.5152000039815903, 284, 9 },\\n  { 450, 0.03359500132501125, 4, 285 },\\n  { 73, 0.037670000456273556, 9, 5 },\\n  { 468, 0.0336016658693552, 5, 4 } \\n};\\n\\nint32_t sonar_tree_roots[20] = { 0, 16, 33, 51, 66, 79, 95, 107, 119, 135, 148, 161, 176, 189, 204, 216, 235, 245, 259, 271 };\\n\\nEmlTrees sonar = {\\n        287,\\n        sonar_nodes,\\t  \\n        20,\\n        sonar_tree_roots,\\n    };\\n\\nstatic inline int32_t sonar_predict_tree_0(const float *features, int32_t features_length) {\\n          if (features[444] < 0.0336016658693552) {\\n              if (features[528] < 0.03359833359718323) {\\n                  if (features[498] < 0.03358833305537701) {\\n                      if (features[213] < 0.31665000319480896) {\\n                          return 1;\\n                      } else {\\n                          return 2;\\n                      }\\n                  } else {\\n                      if (features[252] < 0.03359833359718323) {\\n                          if (features[200] < 0.033578332513570786) {\\n                              return 1;\\n                          } else {\\n                              if (features[381] < 0.3048899918794632) {\\n                                  return 0;\\n                              } else {\\n                                  if (features[309] < 0.22288000583648682) {\\n                                      return 2;\\n                                  } else {\\n                                      return 0;\\n                                  }\\n                              }\\n                          }\\n                      } else {\\n                          return 2;\\n                      }\\n                  }\\n              } else {\\n                  if (features[330] < 0.033586667850613594) {\\n                      return 1;\\n                  } else {\\n                      if (features[308] < 0.0336016658693552) {\\n                          if (features[543] < 0.49970000982284546) {\\n                              return 2;\\n                          } else {\\n                              if (features[363] < 0.5289699882268906) {\\n                                  return 2;\\n                              } else {\\n                                  return 0;\\n                              }\\n                          }\\n                      } else {\\n                          if (features[90] < 0.0336016658693552) {\\n                              return 0;\\n                          } else {\\n                              return 2;\\n                          }\\n                      }\\n                  }\\n              }\\n          } else {\\n              return 1;\\n          }\\n        }\\n        \\n\\nstatic inline int32_t sonar_predict_tree_1(const float *features, int32_t features_length) {\\n          if (features[492] < 0.0336016658693552) {\\n              if (features[372] < 0.03359833359718323) {\\n                  if (features[323] < 0.31780000030994415) {\\n                      if (features[332] < 0.03358833305537701) {\\n                          if (features[419] < 0.40625) {\\n                              return 1;\\n                          } else {\\n                              return 2;\\n                          }\\n                      } else {\\n                          if (features[534] < 0.03359833359718323) {\\n                              if (features[558] < 0.033586665987968445) {\\n                                  return 1;\\n                              } else {\\n                                  return 0;\\n                              }\\n                          } else {\\n                              return 2;\\n                          }\\n                      }\\n                  } else {\\n                      if (features[165] < 0.2592500001192093) {\\n                          if (features[455] < 0.48680001497268677) {\\n                              return 1;\\n                          } else {\\n                              return 0;\\n                          }\\n                      } else {\\n                          if (features[83] < 0.49167999625205994) {\\n                              if (features[594] < 0.03357166610658169) {\\n                                  return 1;\\n                              } else {\\n                                  if (features[465] < 0.5169999897480011) {\\n                                      return 2;\\n                                  } else {\\n                                      return 0;\\n                                  }\\n                              }\\n                          } else {\\n                              return 0;\\n                          }\\n                      }\\n                  }\\n              } else {\\n                  if (features[434] < 0.03359166719019413) {\\n                      return 1;\\n                  } else {\\n                      if (features[559] < 0.14597999304533005) {\\n                          if (features[225] < 0.2851700037717819) {\\n                              return 2;\\n                          } else {\\n                              return 0;\\n                          }\\n                      } else {\\n                          return 2;\\n                      }\\n                  }\\n              }\\n          } else {\\n              if (features[390] < 0.0336016658693552) {\\n                  if (features[148] < 0.03358499892055988) {\\n                      return 1;\\n                  } else {\\n                      return 2;\\n                  }\\n              } else {\\n                  return 1;\\n              }\\n          }\\n        }\\n        \\n\\nstatic inline int32_t sonar_predict_tree_2(const float *features, int32_t features_length) {\\n          if (features[366] < 0.0336016658693552) {\\n              if (features[482] < 0.03359833359718323) {\\n                  if (features[430] < 0.03358833305537701) {\\n                      if (features[203] < 0.37352000176906586) {\\n                          if (features[177] < 0.3590400069952011) {\\n                              return 1;\\n                          } else {\\n                              if (features[69] < 0.3377799987792969) {\\n                                  return 1;\\n                              } else {\\n                                  return 2;\\n                              }\\n                          }\\n                      } else {\\n                          if (features[591] < 0.29221001267433167) {\\n                              if (features[132] < 0.033594999462366104) {\\n                                  return 0;\\n                              } else {\\n                                  return 1;\\n                              }\\n                          } else {\\n                              return 2;\\n                          }\\n                      }\\n                  } else {\\n                      if (features[268] < 0.03359833359718323) {\\n                          if (features[492] < 0.033586665987968445) {\\n                              return 1;\\n                          } else {\\n                              if (features[381] < 0.30051998794078827) {\\n                                  return 0;\\n                              } else {\\n                                  if (features[333] < 0.19751999527215958) {\\n                                      return 2;\\n                                  } else {\\n                                      return 0;\\n                                  }\\n                              }\\n                          }\\n                      } else {\\n                          return 2;\\n                      }\\n                  }\\n              } else {\\n                  if (features[142] < 0.03357166610658169) {\\n                      return 1;\\n                  } else {\\n                      if (features[235] < 0.06802999973297119) {\\n                          return 0;\\n                      } else {\\n                          if (features[532] < 0.03359833359718323) {\\n                              if (features[559] < 0.31895001232624054) {\\n                                  return 2;\\n                              } else {\\n                                  return 0;\\n                              }\\n                          } else {\\n                              if (features[433] < 0.5646399855613708) {\\n                                  return 2;\\n                              } else {\\n                                  if (features[593] < 0.436039999127388) {\\n                                      return 2;\\n                                  } else {\\n                                      return 0;\\n                                  }\\n                              }\\n                          }\\n                      }\\n                  }\\n              }\\n          } else {\\n              return 1;\\n          }\\n        }\\n        \\n\\nstatic inline int32_t sonar_predict_tree_3(const float *features, int32_t features_length) {\\n          if (features[460] < 0.03359833359718323) {\\n              if (features[562] < 0.03358499892055988) {\\n                  if (features[163] < 0.3334999978542328) {\\n                      return 1;\\n                  } else {\\n                      if (features[176] < 0.03360000066459179) {\\n                          return 2;\\n                      } else {\\n                          return 1;\\n                      }\\n                  }\\n              } else {\\n                  if (features[46] < 0.03359833359718323) {\\n                      if (features[216] < 0.03357999958097935) {\\n                          return 1;\\n                      } else {\\n                          if (features[367] < 0.2982499897480011) {\\n                              return 0;\\n                          } else {\\n                              if (features[583] < 0.18470999598503113) {\\n                                  return 2;\\n                              } else {\\n                                  return 0;\\n                              }\\n                          }\\n                      }\\n                  } else {\\n                      if (features[360] < 0.03359833359718323) {\\n                          if (features[209] < 0.11610000347718596) {\\n                              return 0;\\n                          } else {\\n                              return 1;\\n                          }\\n                      } else {\\n                          return 2;\\n                      }\\n                  }\\n              }\\n          } else {\\n              if (features[332] < 0.0336016658693552) {\\n                  if (features[82] < 0.033578332513570786) {\\n                      return 1;\\n                  } else {\\n                      if (features[561] < 0.10293000191450119) {\\n                          if (features[357] < 0.14208000153303146) {\\n                              return 2;\\n                          } else {\\n                              return 0;\\n                          }\\n                      } else {\\n                          return 2;\\n                      }\\n                  }\\n              } else {\\n                  if (features[374] < 0.0336016658693552) {\\n                      return 0;\\n                  } else {\\n                      return 1;\\n                  }\\n              }\\n          }\\n        }\\n        \\n\\nstatic inline int32_t sonar_predict_tree_4(const float *features, int32_t features_length) {\\n          if (features[374] < 0.0336016658693552) {\\n              if (features[194] < 0.03359833359718323) {\\n                  if (features[458] < 0.03358499892055988) {\\n                      if (features[514] < 0.033578334376215935) {\\n                          return 1;\\n                      } else {\\n                          if (features[257] < 0.2597299963235855) {\\n                              return 1;\\n                          } else {\\n                              return 2;\\n                          }\\n                      }\\n                  } else {\\n                      if (features[494] < 0.03359833359718323) {\\n                          if (features[542] < 0.03358499892055988) {\\n                              return 1;\\n                          } else {\\n                              if (features[387] < 0.27053000032901764) {\\n                                  return 0;\\n                              } else {\\n                                  if (features[515] < 0.2119000032544136) {\\n                                      return 2;\\n                                  } else {\\n                                      return 0;\\n                                  }\\n                              }\\n                          }\\n                      } else {\\n                          if (features[232] < 0.033578332513570786) {\\n                              return 1;\\n                          } else {\\n                              if (features[305] < 0.1905200034379959) {\\n                                  return 0;\\n                              } else {\\n                                  return 2;\\n                              }\\n                          }\\n                      }\\n                  }\\n              } else {\\n                  if (features[448] < 0.03359500132501125) {\\n                      return 1;\\n                  } else {\\n                      if (features[451] < 0.05622999928891659) {\\n                          return 0;\\n                      } else {\\n                          return 2;\\n                      }\\n                  }\\n              }\\n          } else {\\n              return 1;\\n          }\\n        }\\n        \\n\\nstatic inline int32_t sonar_predict_tree_5(const float *features, int32_t features_length) {\\n          if (features[384] < 0.0336016658693552) {\\n              if (features[572] < 0.03359833359718323) {\\n                  if (features[598] < 0.03358833305537701) {\\n                      if (features[15] < 0.5092400014400482) {\\n                          if (features[16] < 0.03357999958097935) {\\n                              if (features[404] < 0.03357166610658169) {\\n                                  return 1;\\n                              } else {\\n                                  return 2;\\n                              }\\n                          } else {\\n                              return 1;\\n                          }\\n                      } else {\\n                          return 2;\\n                      }\\n                  } else {\\n                      if (features[370] < 0.03359833359718323) {\\n                          if (features[32] < 0.03358166664838791) {\\n                              return 1;\\n                          } else {\\n                              if (features[281] < 0.10642000287771225) {\\n                                  if (features[339] < 0.18417000025510788) {\\n                                      return 0;\\n                                  } else {\\n                                      return 2;\\n                                  }\\n                              } else {\\n                                  return 0;\\n                              }\\n                          }\\n                      } else {\\n                          return 2;\\n                      }\\n                  }\\n              } else {\\n                  if (features[445] < 0.05622999928891659) {\\n                      return 0;\\n                  } else {\\n                      if (features[155] < 0.452239990234375) {\\n                          if (features[109] < 0.06752999871969223) {\\n                              return 0;\\n                          } else {\\n                              if (features[326] < 0.0336016658693552) {\\n                                  return 2;\\n                              } else {\\n                                  if (features[129] < 0.415460005402565) {\\n                                      return 0;\\n                                  } else {\\n                                      return 2;\\n                                  }\\n                              }\\n                          }\\n                      } else {\\n                          if (features[337] < 0.44495999813079834) {\\n                              return 2;\\n                          } else {\\n                              return 0;\\n                          }\\n                      }\\n                  }\\n              }\\n          } else {\\n              return 1;\\n          }\\n        }\\n        \\n\\nstatic inline int32_t sonar_predict_tree_6(const float *features, int32_t features_length) {\\n          if (features[116] < 0.0336016658693552) {\\n              if (features[516] < 0.03359833359718323) {\\n                  if (features[538] < 0.03358499892055988) {\\n                      if (features[393] < 0.28169000148773193) {\\n                          return 1;\\n                      } else {\\n                          return 2;\\n                      }\\n                  } else {\\n                      if (features[274] < 0.03359833359718323) {\\n                          if (features[363] < 0.2982499897480011) {\\n                              return 0;\\n                          } else {\\n                              if (features[581] < 0.19766999781131744) {\\n                                  return 2;\\n                              } else {\\n                                  return 0;\\n                              }\\n                          }\\n                      } else {\\n                          if (features[443] < 0.1762700006365776) {\\n                              return 0;\\n                          } else {\\n                              return 2;\\n                          }\\n                      }\\n                  }\\n              } else {\\n                  if (features[492] < 0.0336016658693552) {\\n                      if (features[539] < 0.1682400032877922) {\\n                          if (features[325] < 0.24227000027894974) {\\n                              return 2;\\n                          } else {\\n                              return 0;\\n                          }\\n                      } else {\\n                          return 2;\\n                      }\\n                  } else {\\n                      return 1;\\n                  }\\n              }\\n          } else {\\n              if (features[369] < 0.639059990644455) {\\n                  return 1;\\n              } else {\\n                  return 2;\\n              }\\n          }\\n        }\\n        \\n\\nstatic inline int32_t sonar_predict_tree_7(const float *features, int32_t features_length) {\\n          if (features[442] < 0.0336016658693552) {\\n              if (features[520] < 0.03359833359718323) {\\n                  if (features[594] < 0.03359000012278557) {\\n                      if (features[117] < 0.39730000495910645) {\\n                          return 1;\\n                      } else {\\n                          return 2;\\n                      }\\n                  } else {\\n                      if (features[380] < 0.03359833359718323) {\\n                          if (features[42] < 0.03358333371579647) {\\n                              return 1;\\n                          } else {\\n                              return 0;\\n                          }\\n                      } else {\\n                          if (features[191] < 0.0743199996650219) {\\n                              return 0;\\n                          } else {\\n                              return 2;\\n                          }\\n                      }\\n                  }\\n              } else {\\n                  if (features[316] < 0.0336016658693552) {\\n                      if (features[418] < 0.03359500132501125) {\\n                          return 1;\\n                      } else {\\n                          if (features[385] < 0.5262399911880493) {\\n                              if (features[453] < 0.08203999884426594) {\\n                                  return 0;\\n                              } else {\\n                                  return 2;\\n                              }\\n                          } else {\\n                              return 0;\\n                          }\\n                      }\\n                  } else {\\n                      if (features[409] < 0.2908499911427498) {\\n                          return 0;\\n                      } else {\\n                          return 2;\\n                      }\\n                  }\\n              }\\n          } else {\\n              return 1;\\n          }\\n        }\\n        \\n\\nstatic inline int32_t sonar_predict_tree_8(const float *features, int32_t features_length) {\\n          if (features[382] < 0.0336016658693552) {\\n              if (features[300] < 0.03359833359718323) {\\n                  if (features[486] < 0.03358499892055988) {\\n                      if (features[189] < 0.30143000185489655) {\\n                          return 1;\\n                      } else {\\n                          if (features[49] < 0.11003999598324299) {\\n                              return 1;\\n                          } else {\\n                              return 2;\\n                          }\\n                      }\\n                  } else {\\n                      if (features[478] < 0.03359833359718323) {\\n                          if (features[272] < 0.03357999958097935) {\\n                              return 1;\\n                          } else {\\n                              if (features[439] < 0.2501300051808357) {\\n                                  return 0;\\n                              } else {\\n                                  if (features[247] < 0.15055999904870987) {\\n                                      if (features[434] < 0.03359500132501125) {\\n                                          return 1;\\n                                      } else {\\n                                          if (features[371] < 0.2357499971985817) {\\n                                              return 0;\\n                                          } else {\\n                                              return 2;\\n                                          }\\n                                      }\\n                                  } else {\\n                                      return 0;\\n                                  }\\n                              }\\n                          }\\n                      } else {\\n                          if (features[595] < 0.08074000105261803) {\\n                              return 0;\\n                          } else {\\n                              if (features[566] < 0.0336016658693552) {\\n                                  return 2;\\n                              } else {\\n                                  return 1;\\n                              }\\n                          }\\n                      }\\n                  }\\n              } else {\\n                  if (features[365] < 0.5554599910974503) {\\n                      return 2;\\n                  } else {\\n                      if (features[537] < 0.4159500151872635) {\\n                          return 1;\\n                      } else {\\n                          return 0;\\n                      }\\n                  }\\n              }\\n          } else {\\n              if (features[430] < 0.0336016658693552) {\\n                  return 2;\\n              } else {\\n                  return 1;\\n              }\\n          }\\n        }\\n        \\n\\nstatic inline int32_t sonar_predict_tree_9(const float *features, int32_t features_length) {\\n          if (features[598] < 0.0336016658693552) {\\n              if (features[188] < 0.03359833359718323) {\\n                  if (features[566] < 0.03358499892055988) {\\n                      if (features[157] < 0.3654000014066696) {\\n                          return 1;\\n                      } else {\\n                          return 2;\\n                      }\\n                  } else {\\n                      if (features[376] < 0.03359833359718323) {\\n                          if (features[76] < 0.03358166664838791) {\\n                              return 2;\\n                          } else {\\n                              if (features[271] < 0.10480999946594238) {\\n                                  if (features[279] < 0.10135000199079514) {\\n                                      return 0;\\n                                  } else {\\n                                      return 2;\\n                                  }\\n                              } else {\\n                                  return 0;\\n                              }\\n                          }\\n                      } else {\\n                          return 2;\\n                      }\\n                  }\\n              } else {\\n                  if (features[132] < 0.0336016658693552) {\\n                      if (features[451] < 0.06652999855577946) {\\n                          return 0;\\n                      } else {\\n                          return 2;\\n                      }\\n                  } else {\\n                      if (features[38] < 0.0336016658693552) {\\n                          return 2;\\n                      } else {\\n                          return 1;\\n                      }\\n                  }\\n              }\\n          } else {\\n              if (features[534] < 0.0336016658693552) {\\n                  if (features[229] < 0.3145899921655655) {\\n                      return 1;\\n                  } else {\\n                      return 2;\\n                  }\\n              } else {\\n                  return 1;\\n              }\\n          }\\n        }\\n        \\n\\nstatic inline int32_t sonar_predict_tree_10(const float *features, int32_t features_length) {\\n          if (features[366] < 0.0336016658693552) {\\n              if (features[306] < 0.03359833359718323) {\\n                  if (features[502] < 0.03358833305537701) {\\n                      if (features[185] < 0.29582999646663666) {\\n                          return 1;\\n                      } else {\\n                          if (features[292] < 0.03359500132501125) {\\n                              return 2;\\n                          } else {\\n                              return 1;\\n                          }\\n                      }\\n                  } else {\\n                      if (features[138] < 0.03358833305537701) {\\n                          if (features[247] < 0.19708000123500824) {\\n                              return 2;\\n                          } else {\\n                              return 1;\\n                          }\\n                      } else {\\n                          if (features[448] < 0.03359833359718323) {\\n                              if (features[562] < 0.033586665987968445) {\\n                                  return 1;\\n                              } else {\\n                                  return 0;\\n                              }\\n                          } else {\\n                              if (features[216] < 0.03359833359718323) {\\n                                  return 0;\\n                              } else {\\n                                  return 2;\\n                              }\\n                          }\\n                      }\\n                  }\\n              } else {\\n                  if (features[553] < 0.14597999304533005) {\\n                      if (features[163] < 0.3971399962902069) {\\n                          return 0;\\n                      } else {\\n                          return 2;\\n                      }\\n                  } else {\\n                      if (features[285] < 0.642879992723465) {\\n                          return 2;\\n                      } else {\\n                          return 1;\\n                      }\\n                  }\\n              }\\n          } else {\\n              return 1;\\n          }\\n        }\\n        \\n\\nstatic inline int32_t sonar_predict_tree_11(const float *features, int32_t features_length) {\\n          if (features[590] < 0.03359833359718323) {\\n              if (features[534] < 0.03358499892055988) {\\n                  if (features[199] < 0.32673999667167664) {\\n                      return 1;\\n                  } else {\\n                      if (features[500] < 0.033568333834409714) {\\n                          return 1;\\n                      } else {\\n                          return 2;\\n                      }\\n                  }\\n              } else {\\n                  if (features[380] < 0.03359833359718323) {\\n                      if (features[588] < 0.033586665987968445) {\\n                          return 1;\\n                      } else {\\n                          return 0;\\n                      }\\n                  } else {\\n                      if (features[17] < 0.14270999655127525) {\\n                          if (features[233] < 0.04231000132858753) {\\n                              return 0;\\n                          } else {\\n                              return 1;\\n                          }\\n                      } else {\\n                          return 2;\\n                      }\\n                  }\\n              }\\n          } else {\\n              if (features[560] < 0.0336016658693552) {\\n                  if (features[58] < 0.0336016658693552) {\\n                      if (features[350] < 0.0336016658693552) {\\n                          if (features[577] < 0.047330000437796116) {\\n                              return 0;\\n                          } else {\\n                              if (features[299] < 0.5096400082111359) {\\n                                  return 2;\\n                              } else {\\n                                  if (features[115] < 0.3545199930667877) {\\n                                      return 2;\\n                                  } else {\\n                                      return 0;\\n                                  }\\n                              }\\n                          }\\n                      } else {\\n                          return 0;\\n                      }\\n                  } else {\\n                      if (features[275] < 0.32597000151872635) {\\n                          return 1;\\n                      } else {\\n                          return 2;\\n                      }\\n                  }\\n              } else {\\n                  return 1;\\n              }\\n          }\\n        }\\n        \\n\\nstatic inline int32_t sonar_predict_tree_12(const float *features, int32_t features_length) {\\n          if (features[306] < 0.0336016658693552) {\\n              if (features[464] < 0.03359833359718323) {\\n                  if (features[346] < 0.03358833305537701) {\\n                      if (features[195] < 0.318340003490448) {\\n                          return 1;\\n                      } else {\\n                          if (features[95] < 0.43445999920368195) {\\n                              return 2;\\n                          } else {\\n                              return 0;\\n                          }\\n                      }\\n                  } else {\\n                      if (features[0] < 0.03359833359718323) {\\n                          if (features[550] < 0.033586665987968445) {\\n                              return 1;\\n                          } else {\\n                              return 0;\\n                          }\\n                      } else {\\n                          if (features[9] < 0.2699900045990944) {\\n                              if (features[77] < 0.2501499969512224) {\\n                                  return 1;\\n                              } else {\\n                                  return 0;\\n                              }\\n                          } else {\\n                              return 2;\\n                          }\\n                      }\\n                  }\\n              } else {\\n                  if (features[114] < 0.03357166610658169) {\\n                      return 1;\\n                  } else {\\n                      if (features[259] < 0.06183999963104725) {\\n                          return 0;\\n                      } else {\\n                          if (features[273] < 0.531279981136322) {\\n                              return 2;\\n                          } else {\\n                              return 0;\\n                          }\\n                      }\\n                  }\\n              }\\n          } else {\\n              if (features[278] < 0.0336016658693552) {\\n                  return 0;\\n              } else {\\n                  return 1;\\n              }\\n          }\\n        }\\n        \\n\\nstatic inline int32_t sonar_predict_tree_13(const float *features, int32_t features_length) {\\n          if (features[388] < 0.0336016658693552) {\\n              if (features[478] < 0.03359833359718323) {\\n                  if (features[584] < 0.033586665987968445) {\\n                      if (features[233] < 0.31547001004219055) {\\n                          return 1;\\n                      } else {\\n                          if (features[530] < 0.03357166610658169) {\\n                              return 1;\\n                          } else {\\n                              return 2;\\n                          }\\n                      }\\n                  } else {\\n                      if (features[118] < 0.0336016658693552) {\\n                          if (features[266] < 0.03359833359718323) {\\n                              if (features[232] < 0.03357666730880737) {\\n                                  return 1;\\n                              } else {\\n                                  return 0;\\n                              }\\n                          } else {\\n                              return 2;\\n                          }\\n                      } else {\\n                          return 1;\\n                      }\\n                  }\\n              } else {\\n                  if (features[549] < 0.14597999304533005) {\\n                      if (features[452] < 0.0336016658693552) {\\n                          if (features[115] < 0.18742000684142113) {\\n                              if (features[231] < 0.12593000009655952) {\\n                                  return 0;\\n                              } else {\\n                                  return 2;\\n                              }\\n                          } else {\\n                              return 0;\\n                          }\\n                      } else {\\n                          return 2;\\n                      }\\n                  } else {\\n                      if (features[503] < 0.6199800074100494) {\\n                          return 2;\\n                      } else {\\n                          return 1;\\n                      }\\n                  }\\n              }\\n          } else {\\n              if (features[470] < 0.0336016658693552) {\\n                  if (features[300] < 0.0336016658693552) {\\n                      return 2;\\n                  } else {\\n                      return 1;\\n                  }\\n              } else {\\n                  return 1;\\n              }\\n          }\\n        }\\n        \\n\\nstatic inline int32_t sonar_predict_tree_14(const float *features, int32_t features_length) {\\n          if (features[464] < 0.03359833359718323) {\\n              if (features[442] < 0.03358499892055988) {\\n                  if (features[193] < 0.32816000282764435) {\\n                      return 1;\\n                  } else {\\n                      return 2;\\n                  }\\n              } else {\\n                  if (features[290] < 0.03359833359718323) {\\n                      if (features[371] < 0.30051998794078827) {\\n                          return 0;\\n                      } else {\\n                          if (features[267] < 0.16012999787926674) {\\n                              return 2;\\n                          } else {\\n                              return 0;\\n                          }\\n                      }\\n                  } else {\\n                      if (features[386] < 0.03359833359718323) {\\n                          return 1;\\n                      } else {\\n                          return 2;\\n                      }\\n                  }\\n              }\\n          } else {\\n              if (features[392] < 0.0336016658693552) {\\n                  if (features[336] < 0.0336016658693552) {\\n                      if (features[527] < 0.04645000118762255) {\\n                          return 0;\\n                      } else {\\n                          return 2;\\n                      }\\n                  } else {\\n                      return 0;\\n                  }\\n              } else {\\n                  if (features[500] < 0.0336016658693552) {\\n                      if (features[80] < 0.0336016658693552) {\\n                          return 2;\\n                      } else {\\n                          return 1;\\n                      }\\n                  } else {\\n                      return 1;\\n                  }\\n              }\\n          }\\n        }\\n        \\n\\nstatic inline int32_t sonar_predict_tree_15(const float *features, int32_t features_length) {\\n          if (features[470] < 0.0336016658693552) {\\n              if (features[462] < 0.03359833359718323) {\\n                  if (features[514] < 0.03358499892055988) {\\n                      if (features[3] < 0.3373899906873703) {\\n                          return 1;\\n                      } else {\\n                          if (features[169] < 0.274059996008873) {\\n                              return 1;\\n                          } else {\\n                              return 2;\\n                          }\\n                      }\\n                  } else {\\n                      if (features[58] < 0.03359833359718323) {\\n                          if (features[320] < 0.033576665446162224) {\\n                              return 1;\\n                          } else {\\n                              if (features[576] < 0.033586665987968445) {\\n                                  return 1;\\n                              } else {\\n                                  if (features[191] < 0.12859999388456345) {\\n                                      if (features[23] < 0.19539999961853027) {\\n                                          return 0;\\n                                      } else {\\n                                          return 2;\\n                                      }\\n                                  } else {\\n                                      return 0;\\n                                  }\\n                              }\\n                          }\\n                      } else {\\n                          if (features[119] < 0.16316999308764935) {\\n                              if (features[8] < 0.03360000066459179) {\\n                                  return 0;\\n                              } else {\\n                                  return 1;\\n                              }\\n                          } else {\\n                              return 2;\\n                          }\\n                      }\\n                  }\\n              } else {\\n                  if (features[597] < 0.13607000559568405) {\\n                      if (features[245] < 0.29659999907016754) {\\n                          return 0;\\n                      } else {\\n                          return 2;\\n                      }\\n                  } else {\\n                      if (features[125] < 0.09253999963402748) {\\n                          return 1;\\n                      } else {\\n                          if (features[169] < 0.4712800085544586) {\\n                              return 2;\\n                          } else {\\n                              if (features[79] < 0.3687799870967865) {\\n                                  return 2;\\n                              } else {\\n                                  return 0;\\n                              }\\n                          }\\n                      }\\n                  }\\n              }\\n          } else {\\n              if (features[312] < 0.0336016658693552) {\\n                  if (features[354] < 0.033596666529774666) {\\n                      return 1;\\n                  } else {\\n                      return 2;\\n                  }\\n              } else {\\n                  return 1;\\n              }\\n          }\\n        }\\n        \\n\\nstatic inline int32_t sonar_predict_tree_16(const float *features, int32_t features_length) {\\n          if (features[312] < 0.0336016658693552) {\\n              if (features[390] < 0.03359833359718323) {\\n                  if (features[562] < 0.033586665987968445) {\\n                      if (features[93] < 0.2394699975848198) {\\n                          return 1;\\n                      } else {\\n                          return 2;\\n                      }\\n                  } else {\\n                      if (features[302] < 0.03359833359718323) {\\n                          if (features[146] < 0.03357999958097935) {\\n                              return 1;\\n                          } else {\\n                              return 0;\\n                          }\\n                      } else {\\n                          return 2;\\n                      }\\n                  }\\n              } else {\\n                  if (features[568] < 0.0336016658693552) {\\n                      if (features[525] < 0.04645000118762255) {\\n                          return 0;\\n                      } else {\\n                          return 2;\\n                      }\\n                  } else {\\n                      return 1;\\n                  }\\n              }\\n          } else {\\n              if (features[379] < 0.6526199877262115) {\\n                  return 1;\\n              } else {\\n                  if (features[90] < 0.03358499892055988) {\\n                      return 1;\\n                  } else {\\n                      return 2;\\n                  }\\n              }\\n          }\\n        }\\n        \\n\\nstatic inline int32_t sonar_predict_tree_17(const float *features, int32_t features_length) {\\n          if (features[164] < 0.0336016658693552) {\\n              if (features[536] < 0.03359833359718323) {\\n                  if (features[502] < 0.03358833305537701) {\\n                      if (features[209] < 0.3245900124311447) {\\n                          return 1;\\n                      } else {\\n                          if (features[370] < 0.03356500156223774) {\\n                              return 1;\\n                          } else {\\n                              return 2;\\n                          }\\n                      }\\n                  } else {\\n                      if (features[274] < 0.03359833359718323) {\\n                          if (features[590] < 0.033586665987968445) {\\n                              return 1;\\n                          } else {\\n                              return 0;\\n                          }\\n                      } else {\\n                          return 2;\\n                      }\\n                  }\\n              } else {\\n                  if (features[46] < 0.03357500024139881) {\\n                      return 1;\\n                  } else {\\n                      if (features[157] < 0.08894000202417374) {\\n                          return 0;\\n                      } else {\\n                          if (features[261] < 0.6308200061321259) {\\n                              if (features[499] < 0.5227400064468384) {\\n                                  return 2;\\n                              } else {\\n                                  if (features[464] < 0.03359833359718323) {\\n                                      return 0;\\n                                  } else {\\n                                      return 2;\\n                                  }\\n                              }\\n                          } else {\\n                              return 0;\\n                          }\\n                      }\\n                  }\\n              }\\n          } else {\\n              if (features[421] < 0.6222400069236755) {\\n                  return 1;\\n              } else {\\n                  if (features[314] < 0.0336016658693552) {\\n                      return 2;\\n                  } else {\\n                      return 1;\\n                  }\\n              }\\n          }\\n        }\\n        \\n\\nstatic inline int32_t sonar_predict_tree_18(const float *features, int32_t features_length) {\\n          if (features[382] < 0.0336016658693552) {\\n              if (features[580] < 0.03359833359718323) {\\n                  if (features[544] < 0.03358499892055988) {\\n                      if (features[195] < 0.3566800057888031) {\\n                          return 1;\\n                      } else {\\n                          if (features[364] < 0.033586665987968445) {\\n                              return 2;\\n                          } else {\\n                              return 1;\\n                          }\\n                      }\\n                  } else {\\n                      if (features[262] < 0.03359833359718323) {\\n                          if (features[275] < 0.10597000271081924) {\\n                              if (features[211] < 0.12265999615192413) {\\n                                  return 0;\\n                              } else {\\n                                  return 2;\\n                              }\\n                          } else {\\n                              return 0;\\n                          }\\n                      } else {\\n                          if (features[230] < 0.0336016658693552) {\\n                              return 2;\\n                          } else {\\n                              return 1;\\n                          }\\n                      }\\n                  }\\n              } else {\\n                  if (features[280] < 0.03358333371579647) {\\n                      return 1;\\n                  } else {\\n                      if (features[387] < 0.06807000003755093) {\\n                          return 0;\\n                      } else {\\n                          if (features[350] < 0.0336016658693552) {\\n                              return 2;\\n                          } else {\\n                              return 0;\\n                          }\\n                      }\\n                  }\\n              }\\n          } else {\\n              return 1;\\n          }\\n        }\\n        \\n\\nstatic inline int32_t sonar_predict_tree_19(const float *features, int32_t features_length) {\\n          if (features[396] < 0.0336016658693552) {\\n              if (features[556] < 0.03359833359718323) {\\n                  if (features[572] < 0.033586665987968445) {\\n                      if (features[592] < 0.033578334376215935) {\\n                          if (features[109] < 0.3271099925041199) {\\n                              return 1;\\n                          } else {\\n                              return 2;\\n                          }\\n                      } else {\\n                          if (features[106] < 0.03359500132501125) {\\n                              return 2;\\n                          } else {\\n                              return 1;\\n                          }\\n                      }\\n                  } else {\\n                      if (features[208] < 0.03358333371579647) {\\n                          if (features[229] < 0.24372000992298126) {\\n                              return 1;\\n                          } else {\\n                              return 2;\\n                          }\\n                      } else {\\n                          if (features[294] < 0.03360000066459179) {\\n                              if (features[409] < 0.27260999381542206) {\\n                                  return 0;\\n                              } else {\\n                                  if (features[419] < 0.28342999517917633) {\\n                                      return 2;\\n                                  } else {\\n                                      return 0;\\n                                  }\\n                              }\\n                          } else {\\n                              return 1;\\n                          }\\n                      }\\n                  }\\n              } else {\\n                  if (features[316] < 0.0336016658693552) {\\n                      if (features[367] < 0.5152000039815903) {\\n                          if (features[450] < 0.03359500132501125) {\\n                              return 1;\\n                          } else {\\n                              if (features[73] < 0.037670000456273556) {\\n                                  return 0;\\n                              } else {\\n                                  return 2;\\n                              }\\n                          }\\n                      } else {\\n                          return 0;\\n                      }\\n                  } else {\\n                      return 0;\\n                  }\\n              }\\n          } else {\\n              if (features[468] < 0.0336016658693552) {\\n                  return 2;\\n              } else {\\n                  return 1;\\n              }\\n          }\\n        }\\n        \\n\\nint32_t sonar_predict(const float *features, int32_t features_length) {\\n\\n        int32_t votes[3] = {0,};\\n        int32_t _class = -1;\\n\\n        _class = sonar_predict_tree_0(features, features_length); votes[_class] += 1;\\n    _class = sonar_predict_tree_1(features, features_length); votes[_class] += 1;\\n    _class = sonar_predict_tree_2(features, features_length); votes[_class] += 1;\\n    _class = sonar_predict_tree_3(features, features_length); votes[_class] += 1;\\n    _class = sonar_predict_tree_4(features, features_length); votes[_class] += 1;\\n    _class = sonar_predict_tree_5(features, features_length); votes[_class] += 1;\\n    _class = sonar_predict_tree_6(features, features_length); votes[_class] += 1;\\n    _class = sonar_predict_tree_7(features, features_length); votes[_class] += 1;\\n    _class = sonar_predict_tree_8(features, features_length); votes[_class] += 1;\\n    _class = sonar_predict_tree_9(features, features_length); votes[_class] += 1;\\n    _class = sonar_predict_tree_10(features, features_length); votes[_class] += 1;\\n    _class = sonar_predict_tree_11(features, features_length); votes[_class] += 1;\\n    _class = sonar_predict_tree_12(features, features_length); votes[_class] += 1;\\n    _class = sonar_predict_tree_13(features, features_length); votes[_class] += 1;\\n    _class = sonar_predict_tree_14(features, features_length); votes[_class] += 1;\\n    _class = sonar_predict_tree_15(features, features_length); votes[_class] += 1;\\n    _class = sonar_predict_tree_16(features, features_length); votes[_class] += 1;\\n    _class = sonar_predict_tree_17(features, features_length); votes[_class] += 1;\\n    _class = sonar_predict_tree_18(features, features_length); votes[_class] += 1;\\n    _class = sonar_predict_tree_19(features, features_length); votes[_class] += 1;\\n    \\n        int32_t most_voted_class = -1;\\n        int32_t most_voted_votes = 0;\\n        for (int32_t i=0; i<3; i++) {\\n\\n            if (votes[i] > most_voted_votes) {\\n                most_voted_class = i;\\n                most_voted_votes = votes[i];\\n            }\\n        }\\n        return most_voted_class;\\n    }\\n    '"
            ]
          },
          "metadata": {
            "tags": []
          },
          "execution_count": 23
        }
      ]
    }
  ]
}