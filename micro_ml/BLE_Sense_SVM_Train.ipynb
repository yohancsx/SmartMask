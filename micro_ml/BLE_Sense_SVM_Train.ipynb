{
  "nbformat": 4,
  "nbformat_minor": 0,
  "metadata": {
    "colab": {
      "name": "Untitled0.ipynb",
      "provenance": [],
      "authorship_tag": "ABX9TyOUy0xIgNs309Aie5YrBQTt",
      "include_colab_link": true
    },
    "kernelspec": {
      "name": "python3",
      "display_name": "Python 3"
    }
  },
  "cells": [
    {
      "cell_type": "markdown",
      "metadata": {
        "id": "view-in-github",
        "colab_type": "text"
      },
      "source": [
        "<a href=\"https://colab.research.google.com/github/yohancsx/SmartMask/blob/main/micro_ml/BLE_Sense_SVM_Train.ipynb\" target=\"_parent\"><img src=\"https://colab.research.google.com/assets/colab-badge.svg\" alt=\"Open In Colab\"/></a>"
      ]
    },
    {
      "cell_type": "code",
      "metadata": {
        "id": "PKs1QhSEUJxu"
      },
      "source": [
        "!apt-get -qq install xxd\r\n",
        "!pip install pandas numpy matplotlib\r\n",
        "!pip install scikit-learn\r\n",
        "!pip install micromlgen\r\n"
      ],
      "execution_count": null,
      "outputs": []
    },
    {
      "cell_type": "code",
      "metadata": {
        "id": "x7mEU3-zS97d"
      },
      "source": [
        "#imports\r\n",
        "import matplotlib.pyplot as plt\r\n",
        "import numpy as np\r\n",
        "import pandas as pd\r\n",
        "from micromlgen import port\r\n",
        "from sklearn.ensemble import RandomForestClassifier"
      ],
      "execution_count": null,
      "outputs": []
    },
    {
      "cell_type": "code",
      "metadata": {
        "id": "acxIXVgKS_dG"
      },
      "source": [
        "#load all the data into seperate dataframes\r\n",
        "\r\n",
        "#the name for the breathing data\r\n",
        "breathingFile = \"regular_breathing.csv\"\r\n",
        "\r\n",
        "#the name for the coughing data\r\n",
        "coughingFile = \"coughing.csv\"\r\n",
        "\r\n",
        "#the filename for the talking data\r\n",
        "talkingFile = \"talking.csv\"\r\n",
        "\r\n",
        "#the filename for the deep breathing data\r\n",
        "deepBreathingFile = \"deep_breathing.csv\"\r\n",
        "\r\n",
        "#the filename for the combined data\r\n",
        "combinedFile = \"mixed.csv\"\r\n",
        "\r\n",
        "#plot some of the data on the same axes\r\n",
        "dfTalk = (pd.read_csv(\"/content/\" + talkingFile, index_col=False, header=None, names = [\"pressure\"])).dropna(axis = 1)\r\n",
        "dfBreathe = (pd.read_csv(\"/content/\" + breathingFile, index_col=False, header=None, names = [\"pressure\"])).dropna(axis = 1)\r\n",
        "dfCough = (pd.read_csv(\"/content/\" + coughingFile, index_col=False, header=None, names = [\"pressure\"])).dropna(axis = 1)\r\n",
        "dfDeepBreathe = (pd.read_csv(\"/content/\" + deepBreathingFile, index_col=False, header=None, names = [\"pressure\"])).dropna(axis = 1)\r\n",
        "dfMixed = (pd.read_csv(\"/content/\" + talkingFile, index_col=False, header=None, names = [\"pressure\"])).dropna(axis = 1)"
      ],
      "execution_count": null,
      "outputs": []
    },
    {
      "cell_type": "code",
      "metadata": {
        "id": "Q_hHNnp0WH4f"
      },
      "source": [
        "#plot some of the sample data\r\n",
        "plt.rcParams[\"figure.figsize\"] = (5,2)\r\n",
        "\r\n",
        "#the indices\r\n",
        "index = range(0, 200)\r\n",
        "\r\n",
        "plt.plot(index, dfCough.head(200), 'g.', label='x', linestyle='solid', marker=',')\r\n",
        "plt.title(\"Coughing Data\")\r\n",
        "plt.xlabel(\"Sample #\")\r\n",
        "plt.ylabel(\"Pressure\")\r\n",
        "plt.legend()\r\n",
        "plt.show()\r\n",
        "\r\n",
        "plt.plot(index, dfBreathe.head(200), 'r.', label='x', linestyle='solid', marker=',')\r\n",
        "plt.title(\"Breathing Data\")\r\n",
        "plt.xlabel(\"Sample #\")\r\n",
        "plt.ylabel(\"Pressure\")\r\n",
        "plt.legend()\r\n",
        "plt.show()\r\n",
        "\r\n",
        "plt.plot(index, dfDeepBreathe.head(200), 'b.', label='x', linestyle='solid', marker=',')\r\n",
        "plt.title(\"Deep Breathing Data\")\r\n",
        "plt.xlabel(\"Sample #\")\r\n",
        "plt.ylabel(\"Pressure\")\r\n",
        "plt.legend()\r\n",
        "plt.show()\r\n",
        "\r\n",
        "plt.plot(index, dfTalk.head(200), 'y.', label='x', linestyle='solid', marker=',')\r\n",
        "plt.title(\"Talking Data\")\r\n",
        "plt.xlabel(\"Sample #\")\r\n",
        "plt.ylabel(\"Pressure\")\r\n",
        "plt.legend()\r\n",
        "plt.show()\r\n",
        "\r\n"
      ],
      "execution_count": null,
      "outputs": []
    },
    {
      "cell_type": "code",
      "metadata": {
        "id": "K-QGMMNPWM7V"
      },
      "source": [
        "#prepare the datasets\r\n",
        "\r\n",
        "#set the random seed\r\n",
        "SEED = 1337\r\n",
        "np.random.seed(SEED)\r\n",
        "tf.random.set_seed(SEED)\r\n",
        "\r\n",
        "#the list of breathing types to classify\r\n",
        "BREATHING_TYPES = [\r\n",
        "    \"coughing\",\r\n",
        "    \"breathing\",\r\n",
        "    \"deepBreathing\",\r\n",
        "    \"talking\"\r\n",
        "]\r\n",
        "\r\n",
        "#the list of dataframes of the breathing types\r\n",
        "BREATHING_DATA_LIST = [dfCough,dfBreathe,dfDeepBreathe,dfTalk]\r\n",
        "\r\n",
        "#the raw number of samples per period\r\n",
        "SAMPLES_PER_PERIOD = 200\r\n",
        "\r\n",
        "NUM_TYPES = len(BREATHING_TYPES)\r\n",
        "\r\n",
        "#create a one-hot encoded matrix that is used in the output\r\n",
        "ONE_HOT_ENCODED_TYPES = np.eye(NUM_TYPES)\r\n",
        "\r\n",
        "\r\n",
        "#input and putput files\r\n",
        "inputs = []\r\n",
        "outputs = []\r\n",
        "\r\n",
        "#set to a number far greater than the maximum number of samples (or infinity)\r\n",
        "minsamples = np.inf\r\n",
        "\r\n",
        "#the maximum pressure value so data is between 0 and 1\r\n",
        "maxpressure = 3000\r\n",
        "\r\n",
        "#find the min number of samples, also the max value\r\n",
        "for type_index in range(NUM_TYPES):\r\n",
        "  #get the type data\r\n",
        "  type_data = BREATHING_DATA_LIST[type_index]\r\n",
        "  display(type_data.shape[0])\r\n",
        "  if((type_data.shape[0] - SAMPLES_PER_PERIOD/2) < minsamples):\r\n",
        "    minsamples = type_data.shape[0] - SAMPLES_PER_PERIOD/2\r\n",
        "  \r\n",
        "display(\"minimum samples:\")\r\n",
        "display(minsamples)"
      ],
      "execution_count": null,
      "outputs": []
    },
    {
      "cell_type": "code",
      "metadata": {
        "id": "EpmbqRK1WVtX"
      },
      "source": [
        "#Option 1: split the dataset into overlapping portions\r\n",
        "distance_between_samples = 20\r\n",
        "\r\n",
        "for type_index in range(NUM_TYPES): \r\n",
        "  #get the type data\r\n",
        "  type_data = BREATHING_DATA_LIST[type_index]\r\n",
        "  #get the tensors with the samples, start by getting the first sampling period until the last\r\n",
        "  for i in range(int(SAMPLES_PER_PERIOD/2),int(minsamples),int(distance_between_samples)):\r\n",
        "    tensor = []\r\n",
        "    output = ONE_HOT_ENCODED_TYPES[type_index]\r\n",
        "    for j in range(SAMPLES_PER_PERIOD):\r\n",
        "      dataIndex = i + j - SAMPLES_PER_PERIOD/2\r\n",
        "      tensor += [type_data['pressure'][dataIndex]/maxpressure]\r\n",
        "  \r\n",
        "    #append the data\r\n",
        "    inputs.append(tensor)\r\n",
        "    outputs.append(output)\r\n",
        "\r\n",
        "inputs = np.array(inputs)\r\n",
        "outputs = np.array(outputs)\r\n",
        "\r\n",
        "display(\"input shape:\")\r\n",
        "display(inputs.shape)\r\n",
        "\r\n",
        "display(\"output shape:\")\r\n",
        "display(outputs.shape)"
      ],
      "execution_count": null,
      "outputs": []
    },
    {
      "cell_type": "code",
      "metadata": {
        "id": "pkS2Az5JXBIC"
      },
      "source": [
        "#randomize and split inputs and outputs into training and test sets\r\n",
        "num_inputs = len(inputs)\r\n",
        "randomize = np.arange(num_inputs)\r\n",
        "np.random.shuffle(randomize)\r\n",
        "\r\n",
        "#swap the consecutive indexes (0, 1, 2, etc) with the randomized indexes\r\n",
        "inputs = inputs[randomize]\r\n",
        "outputs = outputs[randomize]\r\n",
        "\r\n",
        "#split the recordings (group of samples) into three sets: training, testing and validation\r\n",
        "TRAIN_SPLIT = int(0.6 * num_inputs)\r\n",
        "TEST_SPLIT = int(0.2 * num_inputs + TRAIN_SPLIT)\r\n",
        "\r\n",
        "inputs_train, inputs_test, inputs_validate = np.split(inputs, [TRAIN_SPLIT])\r\n",
        "outputs_train, outputs_test, outputs_validate = np.split(outputs, [TRAIN_SPLIT])"
      ],
      "execution_count": null,
      "outputs": []
    },
    {
      "cell_type": "code",
      "metadata": {
        "id": "JPkrR51HTCcU"
      },
      "source": [
        "#train\r\n",
        "classifier = RandomForestClassifier(30, max_depth=10).fit(inputs_train, outputs_train)\r\n"
      ],
      "execution_count": null,
      "outputs": []
    },
    {
      "cell_type": "code",
      "metadata": {
        "id": "IgV0cKHoTiGB"
      },
      "source": [
        "#determine accuracy"
      ],
      "execution_count": null,
      "outputs": []
    },
    {
      "cell_type": "code",
      "metadata": {
        "id": "oCcUiA9HTjk7"
      },
      "source": [
        "#export\r\n",
        "c_code = port(classifier, classmap=classmap)\r\n",
        "print(c_code)"
      ],
      "execution_count": null,
      "outputs": []
    }
  ]
}